{
 "cells": [
  {
   "cell_type": "code",
   "execution_count": 2,
   "metadata": {},
   "outputs": [],
   "source": [
    "import pandas as pd\n",
    "import numpy as np \n",
    "import matplotlib.pyplot as plt \n",
    "from sklearn.preprocessing import StandardScaler\n",
    "from sklearn.metrics import mean_squared_error\n",
    "import math\n",
    "import tensorflow as tf\n",
    "from tensorflow import keras\n",
    "from tensorflow.keras import datasets, layers, models\n",
    "from tensorflow.keras.callbacks import ModelCheckpoint\n",
    "from sklearn.metrics import r2_score\n",
    "from sklearn.preprocessing import MinMaxScaler\n",
    "from sklearn.svm import SVR\n",
    "import math"
   ]
  },
  {
   "cell_type": "code",
   "execution_count": 3,
   "metadata": {},
   "outputs": [],
   "source": [
    "dataset = pd.read_csv(\"GMM_values.csv\", header=0)"
   ]
  },
  {
   "cell_type": "code",
   "execution_count": 4,
   "metadata": {},
   "outputs": [],
   "source": [
    "#get failure times \n",
    "failurePoints = []\n",
    "for index, row in dataset.iterrows():\n",
    "    current_state = row['State']\n",
    "    if current_state > 3:\n",
    "        failurePoints.append(row['Timestep'])"
   ]
  },
  {
   "cell_type": "code",
   "execution_count": 5,
   "metadata": {},
   "outputs": [],
   "source": [
    "def getRUL(current, failurelst):\n",
    "    nextFailure = None\n",
    "    for f in failurelst:\n",
    "        if f - current >= 0: \n",
    "            nextFailure = f\n",
    "            break \n",
    "    if nextFailure != None:\n",
    "        diff = nextFailure - current \n",
    "        return diff\n",
    "    else: \n",
    "        return None"
   ]
  },
  {
   "cell_type": "code",
   "execution_count": 6,
   "metadata": {},
   "outputs": [],
   "source": [
    "#investigate general trend of RUL values \n",
    "total_rul = []\n",
    "timeX = dataset['Timestep'].tolist()\n",
    "for instance in timeX:\n",
    "    current_rul = getRUL(instance, failurePoints)\n",
    "    total_rul.append(current_rul)"
   ]
  },
  {
   "cell_type": "code",
   "execution_count": 7,
   "metadata": {},
   "outputs": [
    {
     "data": {
      "text/html": [
       "<div>\n",
       "<style scoped>\n",
       "    .dataframe tbody tr th:only-of-type {\n",
       "        vertical-align: middle;\n",
       "    }\n",
       "\n",
       "    .dataframe tbody tr th {\n",
       "        vertical-align: top;\n",
       "    }\n",
       "\n",
       "    .dataframe thead th {\n",
       "        text-align: right;\n",
       "    }\n",
       "</style>\n",
       "<table border=\"1\" class=\"dataframe\">\n",
       "  <thead>\n",
       "    <tr style=\"text-align: right;\">\n",
       "      <th></th>\n",
       "      <th>Timestep</th>\n",
       "      <th>Volt</th>\n",
       "      <th>Rotate</th>\n",
       "      <th>Pressure</th>\n",
       "      <th>Vibration</th>\n",
       "      <th>State</th>\n",
       "      <th>RUL</th>\n",
       "    </tr>\n",
       "  </thead>\n",
       "  <tbody>\n",
       "    <tr>\n",
       "      <th>0</th>\n",
       "      <td>0</td>\n",
       "      <td>0.379151</td>\n",
       "      <td>0.556385</td>\n",
       "      <td>0.243080</td>\n",
       "      <td>0.229504</td>\n",
       "      <td>0</td>\n",
       "      <td>9.0</td>\n",
       "    </tr>\n",
       "    <tr>\n",
       "      <th>1</th>\n",
       "      <td>1</td>\n",
       "      <td>0.415507</td>\n",
       "      <td>0.698561</td>\n",
       "      <td>0.242410</td>\n",
       "      <td>0.273825</td>\n",
       "      <td>1</td>\n",
       "      <td>8.0</td>\n",
       "    </tr>\n",
       "    <tr>\n",
       "      <th>2</th>\n",
       "      <td>2</td>\n",
       "      <td>0.339342</td>\n",
       "      <td>0.637645</td>\n",
       "      <td>0.230266</td>\n",
       "      <td>0.191588</td>\n",
       "      <td>2</td>\n",
       "      <td>7.0</td>\n",
       "    </tr>\n",
       "    <tr>\n",
       "      <th>3</th>\n",
       "      <td>3</td>\n",
       "      <td>0.343817</td>\n",
       "      <td>0.627732</td>\n",
       "      <td>0.233905</td>\n",
       "      <td>0.264566</td>\n",
       "      <td>2</td>\n",
       "      <td>6.0</td>\n",
       "    </tr>\n",
       "    <tr>\n",
       "      <th>4</th>\n",
       "      <td>4</td>\n",
       "      <td>0.310362</td>\n",
       "      <td>0.607368</td>\n",
       "      <td>0.194296</td>\n",
       "      <td>0.240200</td>\n",
       "      <td>2</td>\n",
       "      <td>5.0</td>\n",
       "    </tr>\n",
       "    <tr>\n",
       "      <th>...</th>\n",
       "      <td>...</td>\n",
       "      <td>...</td>\n",
       "      <td>...</td>\n",
       "      <td>...</td>\n",
       "      <td>...</td>\n",
       "      <td>...</td>\n",
       "      <td>...</td>\n",
       "    </tr>\n",
       "    <tr>\n",
       "      <th>7995</th>\n",
       "      <td>7995</td>\n",
       "      <td>0.333491</td>\n",
       "      <td>0.682035</td>\n",
       "      <td>0.220176</td>\n",
       "      <td>0.249060</td>\n",
       "      <td>0</td>\n",
       "      <td>NaN</td>\n",
       "    </tr>\n",
       "    <tr>\n",
       "      <th>7996</th>\n",
       "      <td>7996</td>\n",
       "      <td>0.344994</td>\n",
       "      <td>0.689298</td>\n",
       "      <td>0.225088</td>\n",
       "      <td>0.218040</td>\n",
       "      <td>1</td>\n",
       "      <td>NaN</td>\n",
       "    </tr>\n",
       "    <tr>\n",
       "      <th>7997</th>\n",
       "      <td>7997</td>\n",
       "      <td>0.390017</td>\n",
       "      <td>0.641338</td>\n",
       "      <td>0.211275</td>\n",
       "      <td>0.239294</td>\n",
       "      <td>1</td>\n",
       "      <td>NaN</td>\n",
       "    </tr>\n",
       "    <tr>\n",
       "      <th>7998</th>\n",
       "      <td>7998</td>\n",
       "      <td>0.324577</td>\n",
       "      <td>0.656867</td>\n",
       "      <td>0.205467</td>\n",
       "      <td>0.294698</td>\n",
       "      <td>1</td>\n",
       "      <td>NaN</td>\n",
       "    </tr>\n",
       "    <tr>\n",
       "      <th>7999</th>\n",
       "      <td>7999</td>\n",
       "      <td>0.388020</td>\n",
       "      <td>0.666028</td>\n",
       "      <td>0.281135</td>\n",
       "      <td>0.210243</td>\n",
       "      <td>1</td>\n",
       "      <td>NaN</td>\n",
       "    </tr>\n",
       "  </tbody>\n",
       "</table>\n",
       "<p>8000 rows × 7 columns</p>\n",
       "</div>"
      ],
      "text/plain": [
       "      Timestep      Volt    Rotate  Pressure  Vibration  State  RUL\n",
       "0            0  0.379151  0.556385  0.243080   0.229504      0  9.0\n",
       "1            1  0.415507  0.698561  0.242410   0.273825      1  8.0\n",
       "2            2  0.339342  0.637645  0.230266   0.191588      2  7.0\n",
       "3            3  0.343817  0.627732  0.233905   0.264566      2  6.0\n",
       "4            4  0.310362  0.607368  0.194296   0.240200      2  5.0\n",
       "...        ...       ...       ...       ...        ...    ...  ...\n",
       "7995      7995  0.333491  0.682035  0.220176   0.249060      0  NaN\n",
       "7996      7996  0.344994  0.689298  0.225088   0.218040      1  NaN\n",
       "7997      7997  0.390017  0.641338  0.211275   0.239294      1  NaN\n",
       "7998      7998  0.324577  0.656867  0.205467   0.294698      1  NaN\n",
       "7999      7999  0.388020  0.666028  0.281135   0.210243      1  NaN\n",
       "\n",
       "[8000 rows x 7 columns]"
      ]
     },
     "execution_count": 7,
     "metadata": {},
     "output_type": "execute_result"
    }
   ],
   "source": [
    "#create a new dataframe with RUL \n",
    "all_df = dataset.copy(deep=True)\n",
    "all_df['RUL'] = total_rul\n",
    "all_df"
   ]
  },
  {
   "cell_type": "code",
   "execution_count": 8,
   "metadata": {},
   "outputs": [],
   "source": [
    "#get starting points \n",
    "startingPoints = []\n",
    "for index, row in dataset.iterrows():\n",
    "    current_state = row['State']\n",
    "    if current_state > 3:\n",
    "        timePoint = row['Timestep'] + 1\n",
    "        startingPoints.append(timePoint)"
   ]
  },
  {
   "cell_type": "code",
   "execution_count": 9,
   "metadata": {},
   "outputs": [],
   "source": [
    "def getTimeFromStart(current, startList):\n",
    "    currentEpisodeStartIndex = -1 #initialise negative value first\n",
    "    for s in range(len(startList)):\n",
    "        start = startList[s]\n",
    "        if start - current > 0: \n",
    "            break \n",
    "        currentEpisodeStartIndex = s\n",
    "    if currentEpisodeStartIndex >= 0:\n",
    "        startPointTime = startList[currentEpisodeStartIndex]\n",
    "        diff = current - startPointTime\n",
    "        return int(diff)\n",
    "    else: \n",
    "        return current"
   ]
  },
  {
   "cell_type": "code",
   "execution_count": 10,
   "metadata": {},
   "outputs": [],
   "source": [
    "#get data on time elapsed from start of episode \n",
    "total_time_from_start = []\n",
    "for timePoint in timeX:\n",
    "    current_time_from_start = getTimeFromStart(timePoint, startingPoints)\n",
    "    total_time_from_start.append(current_time_from_start)"
   ]
  },
  {
   "cell_type": "code",
   "execution_count": 11,
   "metadata": {},
   "outputs": [
    {
     "data": {
      "text/html": [
       "<div>\n",
       "<style scoped>\n",
       "    .dataframe tbody tr th:only-of-type {\n",
       "        vertical-align: middle;\n",
       "    }\n",
       "\n",
       "    .dataframe tbody tr th {\n",
       "        vertical-align: top;\n",
       "    }\n",
       "\n",
       "    .dataframe thead th {\n",
       "        text-align: right;\n",
       "    }\n",
       "</style>\n",
       "<table border=\"1\" class=\"dataframe\">\n",
       "  <thead>\n",
       "    <tr style=\"text-align: right;\">\n",
       "      <th></th>\n",
       "      <th>Timestep</th>\n",
       "      <th>Volt</th>\n",
       "      <th>Rotate</th>\n",
       "      <th>Pressure</th>\n",
       "      <th>Vibration</th>\n",
       "      <th>State</th>\n",
       "      <th>RUL</th>\n",
       "      <th>Time_elapsed</th>\n",
       "    </tr>\n",
       "  </thead>\n",
       "  <tbody>\n",
       "    <tr>\n",
       "      <th>0</th>\n",
       "      <td>0</td>\n",
       "      <td>0.379151</td>\n",
       "      <td>0.556385</td>\n",
       "      <td>0.243080</td>\n",
       "      <td>0.229504</td>\n",
       "      <td>0</td>\n",
       "      <td>9.0</td>\n",
       "      <td>0</td>\n",
       "    </tr>\n",
       "    <tr>\n",
       "      <th>1</th>\n",
       "      <td>1</td>\n",
       "      <td>0.415507</td>\n",
       "      <td>0.698561</td>\n",
       "      <td>0.242410</td>\n",
       "      <td>0.273825</td>\n",
       "      <td>1</td>\n",
       "      <td>8.0</td>\n",
       "      <td>1</td>\n",
       "    </tr>\n",
       "    <tr>\n",
       "      <th>2</th>\n",
       "      <td>2</td>\n",
       "      <td>0.339342</td>\n",
       "      <td>0.637645</td>\n",
       "      <td>0.230266</td>\n",
       "      <td>0.191588</td>\n",
       "      <td>2</td>\n",
       "      <td>7.0</td>\n",
       "      <td>2</td>\n",
       "    </tr>\n",
       "    <tr>\n",
       "      <th>3</th>\n",
       "      <td>3</td>\n",
       "      <td>0.343817</td>\n",
       "      <td>0.627732</td>\n",
       "      <td>0.233905</td>\n",
       "      <td>0.264566</td>\n",
       "      <td>2</td>\n",
       "      <td>6.0</td>\n",
       "      <td>3</td>\n",
       "    </tr>\n",
       "    <tr>\n",
       "      <th>4</th>\n",
       "      <td>4</td>\n",
       "      <td>0.310362</td>\n",
       "      <td>0.607368</td>\n",
       "      <td>0.194296</td>\n",
       "      <td>0.240200</td>\n",
       "      <td>2</td>\n",
       "      <td>5.0</td>\n",
       "      <td>4</td>\n",
       "    </tr>\n",
       "    <tr>\n",
       "      <th>...</th>\n",
       "      <td>...</td>\n",
       "      <td>...</td>\n",
       "      <td>...</td>\n",
       "      <td>...</td>\n",
       "      <td>...</td>\n",
       "      <td>...</td>\n",
       "      <td>...</td>\n",
       "      <td>...</td>\n",
       "    </tr>\n",
       "    <tr>\n",
       "      <th>7995</th>\n",
       "      <td>7995</td>\n",
       "      <td>0.333491</td>\n",
       "      <td>0.682035</td>\n",
       "      <td>0.220176</td>\n",
       "      <td>0.249060</td>\n",
       "      <td>0</td>\n",
       "      <td>NaN</td>\n",
       "      <td>3</td>\n",
       "    </tr>\n",
       "    <tr>\n",
       "      <th>7996</th>\n",
       "      <td>7996</td>\n",
       "      <td>0.344994</td>\n",
       "      <td>0.689298</td>\n",
       "      <td>0.225088</td>\n",
       "      <td>0.218040</td>\n",
       "      <td>1</td>\n",
       "      <td>NaN</td>\n",
       "      <td>4</td>\n",
       "    </tr>\n",
       "    <tr>\n",
       "      <th>7997</th>\n",
       "      <td>7997</td>\n",
       "      <td>0.390017</td>\n",
       "      <td>0.641338</td>\n",
       "      <td>0.211275</td>\n",
       "      <td>0.239294</td>\n",
       "      <td>1</td>\n",
       "      <td>NaN</td>\n",
       "      <td>5</td>\n",
       "    </tr>\n",
       "    <tr>\n",
       "      <th>7998</th>\n",
       "      <td>7998</td>\n",
       "      <td>0.324577</td>\n",
       "      <td>0.656867</td>\n",
       "      <td>0.205467</td>\n",
       "      <td>0.294698</td>\n",
       "      <td>1</td>\n",
       "      <td>NaN</td>\n",
       "      <td>6</td>\n",
       "    </tr>\n",
       "    <tr>\n",
       "      <th>7999</th>\n",
       "      <td>7999</td>\n",
       "      <td>0.388020</td>\n",
       "      <td>0.666028</td>\n",
       "      <td>0.281135</td>\n",
       "      <td>0.210243</td>\n",
       "      <td>1</td>\n",
       "      <td>NaN</td>\n",
       "      <td>7</td>\n",
       "    </tr>\n",
       "  </tbody>\n",
       "</table>\n",
       "<p>8000 rows × 8 columns</p>\n",
       "</div>"
      ],
      "text/plain": [
       "      Timestep      Volt    Rotate  Pressure  Vibration  State  RUL  \\\n",
       "0            0  0.379151  0.556385  0.243080   0.229504      0  9.0   \n",
       "1            1  0.415507  0.698561  0.242410   0.273825      1  8.0   \n",
       "2            2  0.339342  0.637645  0.230266   0.191588      2  7.0   \n",
       "3            3  0.343817  0.627732  0.233905   0.264566      2  6.0   \n",
       "4            4  0.310362  0.607368  0.194296   0.240200      2  5.0   \n",
       "...        ...       ...       ...       ...        ...    ...  ...   \n",
       "7995      7995  0.333491  0.682035  0.220176   0.249060      0  NaN   \n",
       "7996      7996  0.344994  0.689298  0.225088   0.218040      1  NaN   \n",
       "7997      7997  0.390017  0.641338  0.211275   0.239294      1  NaN   \n",
       "7998      7998  0.324577  0.656867  0.205467   0.294698      1  NaN   \n",
       "7999      7999  0.388020  0.666028  0.281135   0.210243      1  NaN   \n",
       "\n",
       "      Time_elapsed  \n",
       "0                0  \n",
       "1                1  \n",
       "2                2  \n",
       "3                3  \n",
       "4                4  \n",
       "...            ...  \n",
       "7995             3  \n",
       "7996             4  \n",
       "7997             5  \n",
       "7998             6  \n",
       "7999             7  \n",
       "\n",
       "[8000 rows x 8 columns]"
      ]
     },
     "execution_count": 11,
     "metadata": {},
     "output_type": "execute_result"
    }
   ],
   "source": [
    "all_df['Time_elapsed'] = total_time_from_start\n",
    "all_df"
   ]
  },
  {
   "cell_type": "code",
   "execution_count": 12,
   "metadata": {},
   "outputs": [],
   "source": [
    "#add anomaly data\n",
    "\n",
    "#load anomaly detection model\n",
    "anomalyDetector = tf.keras.models.load_model('AE_tuneActivation_code_relu.h5')\n",
    "\n",
    "anomalyData = []\n",
    "\n",
    "for index, row in all_df.iterrows():\n",
    "    sensorReadings = np.array([row['Volt'], row['Rotate'], row['Pressure'], row['Vibration']])\n",
    "    sensorReadings = np.reshape(sensorReadings, (1,4))\n",
    "    predictions = anomalyDetector.predict(sensorReadings)\n",
    "    anomalyScore = (np.mean(np.power(sensorReadings - predictions, 2), axis=1))**0.5\n",
    "    \n",
    "    if anomalyScore < 0.0838:\n",
    "        isAnomaly = 0\n",
    "    else:\n",
    "        isAnomaly = 1\n",
    "        \n",
    "    anomalyData.append(isAnomaly)\n",
    "    \n",
    "all_df['Anomalous'] = anomalyData"
   ]
  },
  {
   "cell_type": "code",
   "execution_count": 13,
   "metadata": {},
   "outputs": [
    {
     "data": {
      "text/html": [
       "<div>\n",
       "<style scoped>\n",
       "    .dataframe tbody tr th:only-of-type {\n",
       "        vertical-align: middle;\n",
       "    }\n",
       "\n",
       "    .dataframe tbody tr th {\n",
       "        vertical-align: top;\n",
       "    }\n",
       "\n",
       "    .dataframe thead th {\n",
       "        text-align: right;\n",
       "    }\n",
       "</style>\n",
       "<table border=\"1\" class=\"dataframe\">\n",
       "  <thead>\n",
       "    <tr style=\"text-align: right;\">\n",
       "      <th></th>\n",
       "      <th>Timestep</th>\n",
       "      <th>Volt</th>\n",
       "      <th>Rotate</th>\n",
       "      <th>Pressure</th>\n",
       "      <th>Vibration</th>\n",
       "      <th>State</th>\n",
       "      <th>RUL</th>\n",
       "      <th>Time_elapsed</th>\n",
       "      <th>Anomalous</th>\n",
       "    </tr>\n",
       "  </thead>\n",
       "  <tbody>\n",
       "    <tr>\n",
       "      <th>0</th>\n",
       "      <td>0</td>\n",
       "      <td>0.379151</td>\n",
       "      <td>0.556385</td>\n",
       "      <td>0.243080</td>\n",
       "      <td>0.229504</td>\n",
       "      <td>0</td>\n",
       "      <td>9.0</td>\n",
       "      <td>0</td>\n",
       "      <td>0</td>\n",
       "    </tr>\n",
       "    <tr>\n",
       "      <th>1</th>\n",
       "      <td>1</td>\n",
       "      <td>0.415507</td>\n",
       "      <td>0.698561</td>\n",
       "      <td>0.242410</td>\n",
       "      <td>0.273825</td>\n",
       "      <td>1</td>\n",
       "      <td>8.0</td>\n",
       "      <td>1</td>\n",
       "      <td>0</td>\n",
       "    </tr>\n",
       "    <tr>\n",
       "      <th>2</th>\n",
       "      <td>2</td>\n",
       "      <td>0.339342</td>\n",
       "      <td>0.637645</td>\n",
       "      <td>0.230266</td>\n",
       "      <td>0.191588</td>\n",
       "      <td>2</td>\n",
       "      <td>7.0</td>\n",
       "      <td>2</td>\n",
       "      <td>0</td>\n",
       "    </tr>\n",
       "    <tr>\n",
       "      <th>3</th>\n",
       "      <td>3</td>\n",
       "      <td>0.343817</td>\n",
       "      <td>0.627732</td>\n",
       "      <td>0.233905</td>\n",
       "      <td>0.264566</td>\n",
       "      <td>2</td>\n",
       "      <td>6.0</td>\n",
       "      <td>3</td>\n",
       "      <td>0</td>\n",
       "    </tr>\n",
       "    <tr>\n",
       "      <th>4</th>\n",
       "      <td>4</td>\n",
       "      <td>0.310362</td>\n",
       "      <td>0.607368</td>\n",
       "      <td>0.194296</td>\n",
       "      <td>0.240200</td>\n",
       "      <td>2</td>\n",
       "      <td>5.0</td>\n",
       "      <td>4</td>\n",
       "      <td>0</td>\n",
       "    </tr>\n",
       "    <tr>\n",
       "      <th>...</th>\n",
       "      <td>...</td>\n",
       "      <td>...</td>\n",
       "      <td>...</td>\n",
       "      <td>...</td>\n",
       "      <td>...</td>\n",
       "      <td>...</td>\n",
       "      <td>...</td>\n",
       "      <td>...</td>\n",
       "      <td>...</td>\n",
       "    </tr>\n",
       "    <tr>\n",
       "      <th>7987</th>\n",
       "      <td>7987</td>\n",
       "      <td>0.325059</td>\n",
       "      <td>0.616790</td>\n",
       "      <td>0.235959</td>\n",
       "      <td>0.192175</td>\n",
       "      <td>2</td>\n",
       "      <td>4.0</td>\n",
       "      <td>7</td>\n",
       "      <td>0</td>\n",
       "    </tr>\n",
       "    <tr>\n",
       "      <th>7988</th>\n",
       "      <td>7988</td>\n",
       "      <td>0.388779</td>\n",
       "      <td>0.670864</td>\n",
       "      <td>0.243099</td>\n",
       "      <td>0.248306</td>\n",
       "      <td>2</td>\n",
       "      <td>3.0</td>\n",
       "      <td>8</td>\n",
       "      <td>0</td>\n",
       "    </tr>\n",
       "    <tr>\n",
       "      <th>7989</th>\n",
       "      <td>7989</td>\n",
       "      <td>0.339885</td>\n",
       "      <td>0.607819</td>\n",
       "      <td>0.237883</td>\n",
       "      <td>0.232814</td>\n",
       "      <td>3</td>\n",
       "      <td>2.0</td>\n",
       "      <td>9</td>\n",
       "      <td>0</td>\n",
       "    </tr>\n",
       "    <tr>\n",
       "      <th>7990</th>\n",
       "      <td>7990</td>\n",
       "      <td>0.525533</td>\n",
       "      <td>0.611479</td>\n",
       "      <td>0.414174</td>\n",
       "      <td>0.214225</td>\n",
       "      <td>3</td>\n",
       "      <td>1.0</td>\n",
       "      <td>10</td>\n",
       "      <td>1</td>\n",
       "    </tr>\n",
       "    <tr>\n",
       "      <th>7991</th>\n",
       "      <td>7991</td>\n",
       "      <td>0.441301</td>\n",
       "      <td>0.296198</td>\n",
       "      <td>0.190694</td>\n",
       "      <td>0.236868</td>\n",
       "      <td>4</td>\n",
       "      <td>0.0</td>\n",
       "      <td>11</td>\n",
       "      <td>1</td>\n",
       "    </tr>\n",
       "  </tbody>\n",
       "</table>\n",
       "<p>7992 rows × 9 columns</p>\n",
       "</div>"
      ],
      "text/plain": [
       "      Timestep      Volt    Rotate  Pressure  Vibration  State  RUL  \\\n",
       "0            0  0.379151  0.556385  0.243080   0.229504      0  9.0   \n",
       "1            1  0.415507  0.698561  0.242410   0.273825      1  8.0   \n",
       "2            2  0.339342  0.637645  0.230266   0.191588      2  7.0   \n",
       "3            3  0.343817  0.627732  0.233905   0.264566      2  6.0   \n",
       "4            4  0.310362  0.607368  0.194296   0.240200      2  5.0   \n",
       "...        ...       ...       ...       ...        ...    ...  ...   \n",
       "7987      7987  0.325059  0.616790  0.235959   0.192175      2  4.0   \n",
       "7988      7988  0.388779  0.670864  0.243099   0.248306      2  3.0   \n",
       "7989      7989  0.339885  0.607819  0.237883   0.232814      3  2.0   \n",
       "7990      7990  0.525533  0.611479  0.414174   0.214225      3  1.0   \n",
       "7991      7991  0.441301  0.296198  0.190694   0.236868      4  0.0   \n",
       "\n",
       "      Time_elapsed  Anomalous  \n",
       "0                0          0  \n",
       "1                1          0  \n",
       "2                2          0  \n",
       "3                3          0  \n",
       "4                4          0  \n",
       "...            ...        ...  \n",
       "7987             7          0  \n",
       "7988             8          0  \n",
       "7989             9          0  \n",
       "7990            10          1  \n",
       "7991            11          1  \n",
       "\n",
       "[7992 rows x 9 columns]"
      ]
     },
     "execution_count": 13,
     "metadata": {},
     "output_type": "execute_result"
    }
   ],
   "source": [
    "#drop na columns \n",
    "all_df = all_df.dropna()\n",
    "all_df"
   ]
  },
  {
   "cell_type": "code",
   "execution_count": 14,
   "metadata": {},
   "outputs": [],
   "source": [
    "#split data into episodes\n",
    "data_split = []\n",
    "chunkBySize = []\n",
    "for index, row in all_df.iterrows():\n",
    "    currentRUL = row['RUL']\n",
    "    arr = [row['Timestep'], row['Volt'], row['Rotate'], row['Pressure'], row['Vibration'], row['Time_elapsed'], row['Anomalous'], row['RUL'], row['State']]\n",
    "    if currentRUL < 1:  \n",
    "        chunkBySize.append(arr)\n",
    "        if (chunkBySize):\n",
    "            data_split.append(chunkBySize)\n",
    "        chunkBySize = []\n",
    "    else:\n",
    "        chunkBySize.append(arr)"
   ]
  },
  {
   "cell_type": "code",
   "execution_count": 15,
   "metadata": {},
   "outputs": [],
   "source": [
    "#split in training, validation and test sets\n",
    "\n",
    "num_episodes = len(data_split)\n",
    "num_train = int(0.75*num_episodes)\n",
    "num_val = int(0.125*num_episodes)\n",
    "\n",
    "train_data = data_split[:num_train]\n",
    "val_data = data_split[num_train:num_train+num_val]\n",
    "test_data = data_split[num_train+num_val:]"
   ]
  },
  {
   "cell_type": "code",
   "execution_count": 16,
   "metadata": {},
   "outputs": [],
   "source": [
    "def splitDataIntoChunks3DWithAnomalyTimeInfo(data, chunk_size):\n",
    "    X_split = []\n",
    "    y_split = []\n",
    "    time_split = []\n",
    "    for episode in data:\n",
    "        for order in range(0, len(episode)):\n",
    "            diff = len(episode) - order\n",
    "            if diff > chunk_size:\n",
    "                episode_chunk = []\n",
    "                for i in range(0, chunk_size):\n",
    "                    reading = episode[order+i]\n",
    "                    episode_chunk.append(reading[1:7])\n",
    "                X_split.append(episode_chunk)\n",
    "                y_split.append(episode[order+chunk_size][7])\n",
    "                time_split.append(int(episode[order+chunk_size][0]))\n",
    "    return (X_split, y_split, time_split)"
   ]
  },
  {
   "cell_type": "code",
   "execution_count": 17,
   "metadata": {},
   "outputs": [],
   "source": [
    "#set random seed \n",
    "tf.random.set_seed(42)"
   ]
  },
  {
   "cell_type": "code",
   "execution_count": 18,
   "metadata": {},
   "outputs": [],
   "source": [
    "def findSscore(actualRULlist, predictedRULlist):\n",
    "    Sscore = 0\n",
    "    for order in range(len(actualRULlist)):\n",
    "        actualRUL = actualRULlist[order]\n",
    "        predictedRUL = predictedRULlist[order]\n",
    "        diff = abs(actualRUL - predictedRUL)\n",
    "        if predictedRUL < actualRUL: #underestimate\n",
    "            multiplier = 1/13\n",
    "        else: #overestimate\n",
    "            multiplier = 1/10\n",
    "        factor = multiplier*diff\n",
    "        score = math.exp(factor)\n",
    "        Sscore += score\n",
    "    return Sscore"
   ]
  },
  {
   "cell_type": "code",
   "execution_count": 19,
   "metadata": {},
   "outputs": [],
   "source": [
    "(trainX_4step_TAD, trainY_4step_TAD, trainTime_4step_TAD) = splitDataIntoChunks3DWithAnomalyTimeInfo(train_data, 4)\n",
    "(valX_4step_TAD, valY_4step_TAD, valTime_4step_TAD) = splitDataIntoChunks3DWithAnomalyTimeInfo(val_data, 4)\n",
    "(testX_4step_TAD, testY_4step_TAD, testTime_4step_TAD) = splitDataIntoChunks3DWithAnomalyTimeInfo(test_data, 4)"
   ]
  },
  {
   "cell_type": "code",
   "execution_count": 20,
   "metadata": {},
   "outputs": [
    {
     "data": {
      "text/plain": [
       "(4022, 4, 6)"
      ]
     },
     "execution_count": 20,
     "metadata": {},
     "output_type": "execute_result"
    }
   ],
   "source": [
    "#check shape of X (training)\n",
    "trainX_4step_TAD_arr = np.array(trainX_4step_TAD)\n",
    "trainX_4step_TAD_arr.shape"
   ]
  },
  {
   "cell_type": "code",
   "execution_count": 21,
   "metadata": {},
   "outputs": [
    {
     "data": {
      "text/plain": [
       "(4022, 1)"
      ]
     },
     "execution_count": 21,
     "metadata": {},
     "output_type": "execute_result"
    }
   ],
   "source": [
    "#check shape of y (training)\n",
    "trainY_4step_TAD_arr = np.array(trainY_4step_TAD)\n",
    "trainY_4step_TAD_arr = trainY_4step_TAD_arr.reshape(-1, 1)\n",
    "trainY_4step_TAD_arr.shape"
   ]
  },
  {
   "cell_type": "code",
   "execution_count": 22,
   "metadata": {},
   "outputs": [
    {
     "data": {
      "text/plain": [
       "(635, 4, 6)"
      ]
     },
     "execution_count": 22,
     "metadata": {},
     "output_type": "execute_result"
    }
   ],
   "source": [
    "#check shape of X (validation)\n",
    "valX_4step_TAD_arr = np.array(valX_4step_TAD)\n",
    "valX_4step_TAD_arr.shape"
   ]
  },
  {
   "cell_type": "code",
   "execution_count": 23,
   "metadata": {},
   "outputs": [
    {
     "data": {
      "text/plain": [
       "(635, 1)"
      ]
     },
     "execution_count": 23,
     "metadata": {},
     "output_type": "execute_result"
    }
   ],
   "source": [
    "#check shape of y (validation)\n",
    "valY_4step_TAD_arr = np.array(valY_4step_TAD)\n",
    "valY_4step_TAD_arr = valY_4step_TAD_arr.reshape(-1, 1)\n",
    "valY_4step_TAD_arr.shape"
   ]
  },
  {
   "cell_type": "code",
   "execution_count": 24,
   "metadata": {},
   "outputs": [],
   "source": [
    "model2 = tf.keras.models.load_model(\"CNN_tuned_withTime2.h5\")"
   ]
  },
  {
   "cell_type": "code",
   "execution_count": 25,
   "metadata": {},
   "outputs": [
    {
     "name": "stdout",
     "output_type": "stream",
     "text": [
      "Train Score: 4.0311 RMSE 0.1296 R2 Score 5325.8737 S score\n"
     ]
    }
   ],
   "source": [
    "#performance on training set\n",
    "trainPredict2 = model2.predict(trainX_4step_TAD_arr)\n",
    "# calculate root mean squared error\n",
    "trainScore2 = math.sqrt(mean_squared_error(trainY_4step_TAD_arr, trainPredict2))\n",
    "trainR2Score2 = r2_score(trainY_4step_TAD_arr, trainPredict2)\n",
    "trainSscore2 = findSscore(trainY_4step_TAD_arr, trainPredict2)\n",
    "print('Train Score: %.4f RMSE %.4f R2 Score %.4f S score' % (trainScore2, trainR2Score2, trainSscore2))"
   ]
  },
  {
   "cell_type": "code",
   "execution_count": 26,
   "metadata": {},
   "outputs": [
    {
     "name": "stdout",
     "output_type": "stream",
     "text": [
      "Validation Score: 2.8366 RMSE 0.2976 R2 Score 785.6241 S score\n"
     ]
    }
   ],
   "source": [
    "#performance on validation set\n",
    "valPredict2 = model2.predict(valX_4step_TAD_arr)\n",
    "# calculate root mean squared error\n",
    "valScore2 = math.sqrt(mean_squared_error(valY_4step_TAD_arr, valPredict2))\n",
    "valR2Score2 = r2_score(valY_4step_TAD_arr, valPredict2)\n",
    "valSscore2 = findSscore(valY_4step_TAD_arr, valPredict2)\n",
    "print('Validation Score: %.4f RMSE %.4f R2 Score %.4f S score' % (valScore2, valR2Score2, valSscore2))"
   ]
  },
  {
   "cell_type": "code",
   "execution_count": 27,
   "metadata": {},
   "outputs": [],
   "source": [
    "allRUL = all_df['RUL']"
   ]
  },
  {
   "cell_type": "code",
   "execution_count": 28,
   "metadata": {},
   "outputs": [],
   "source": [
    "def getRULValues(predictions, actual, timeList, startIndex, endIndex):\n",
    "    actualValues = []\n",
    "    predictedValues = []\n",
    "    for timestep in range(startIndex, endIndex+1):\n",
    "        actualValues.append(actual[timestep])\n",
    "        if timestep in timeList:\n",
    "            requiredIndex = timeList.index(timestep)\n",
    "            predictedValues.append(predictions[requiredIndex])\n",
    "        else:\n",
    "            predictedValues.append(0)\n",
    "    return (actualValues, predictedValues)"
   ]
  },
  {
   "cell_type": "code",
   "execution_count": 29,
   "metadata": {},
   "outputs": [],
   "source": [
    "(actualTrain2, predictedTrain2) = getRULValues(trainPredict2, allRUL, trainTime_4step_TAD, 0, 6009)\n",
    "(actualVal2, predictedVal2) = getRULValues(valPredict2, allRUL, valTime_4step_TAD, 6010, 6976)"
   ]
  },
  {
   "cell_type": "code",
   "execution_count": 30,
   "metadata": {},
   "outputs": [],
   "source": [
    "#find timesteps for each episode\n",
    "def findTimestepsPerEpisode(data):\n",
    "    output = []\n",
    "    for episode in data:\n",
    "        episode_time = []\n",
    "        for instance in episode:\n",
    "            timestep = int(instance[0])\n",
    "            episode_time.append(timestep)\n",
    "        output.append(episode_time)\n",
    "    return output"
   ]
  },
  {
   "cell_type": "code",
   "execution_count": 31,
   "metadata": {},
   "outputs": [],
   "source": [
    "valEpisode_Time = findTimestepsPerEpisode(val_data)"
   ]
  },
  {
   "cell_type": "code",
   "execution_count": 32,
   "metadata": {},
   "outputs": [],
   "source": [
    "def findRULPredictedEachEpisode(predictions, timeList, episodeTimeList):\n",
    "    predictedValuesAllEpisodes = []\n",
    "    for episode in episodeTimeList:\n",
    "        predictRULEpisode = []\n",
    "        for timestep in episode[:-1]: \n",
    "            #exclude last timestep since failure\n",
    "            if timestep in timeList:\n",
    "                index = timeList.index(timestep)\n",
    "                predictedValue = predictions[index][0]\n",
    "                predictRULEpisode.append(predictedValue)\n",
    "        predictedValuesAllEpisodes.append(predictRULEpisode)\n",
    "    return predictedValuesAllEpisodes"
   ]
  },
  {
   "cell_type": "code",
   "execution_count": 33,
   "metadata": {},
   "outputs": [],
   "source": [
    "valPredict_Episodes = findRULPredictedEachEpisode(valPredict2, valTime_4step_TAD, valEpisode_Time)"
   ]
  },
  {
   "cell_type": "code",
   "execution_count": 34,
   "metadata": {},
   "outputs": [
    {
     "data": {
      "text/plain": [
       "[[6.4174175,\n",
       "  5.69571,\n",
       "  5.2754154,\n",
       "  4.827429,\n",
       "  4.3029776,\n",
       "  3.9096746,\n",
       "  3.929145,\n",
       "  3.5537248,\n",
       "  3.5062726],\n",
       " [],\n",
       " [6.1096907,\n",
       "  5.1416764,\n",
       "  4.662638,\n",
       "  4.590067,\n",
       "  4.305699,\n",
       "  4.1230803,\n",
       "  3.5057843,\n",
       "  2.9689872],\n",
       " [7.230675, 6.3991013, 5.326668, 2.6566844, 2.177749],\n",
       " [6.728034,\n",
       "  6.007189,\n",
       "  5.1691694,\n",
       "  4.5330076,\n",
       "  4.144803,\n",
       "  4.078834,\n",
       "  3.8332908,\n",
       "  3.777937,\n",
       "  3.391351,\n",
       "  2.705617,\n",
       "  2.3658154],\n",
       " [6.3384957, 6.1960135, 5.015624],\n",
       " [6.94369,\n",
       "  6.1428604,\n",
       "  5.460983,\n",
       "  4.503948,\n",
       "  4.051606,\n",
       "  4.1038694,\n",
       "  3.840103,\n",
       "  3.372923,\n",
       "  2.8082135],\n",
       " [6.4450645,\n",
       "  4.6037188,\n",
       "  4.9173183,\n",
       "  5.243086,\n",
       "  5.1411924,\n",
       "  4.5895424,\n",
       "  4.4208164,\n",
       "  3.985574,\n",
       "  2.3058996],\n",
       " [6.9847794,\n",
       "  6.0138555,\n",
       "  5.324556,\n",
       "  4.8044376,\n",
       "  4.7170877,\n",
       "  4.352425,\n",
       "  2.380914,\n",
       "  1.783114,\n",
       "  1.7551137],\n",
       " [],\n",
       " [6.359241],\n",
       " [6.1558094, 5.3864355, 4.7909527],\n",
       " [6.875349, 5.7370033, 4.1299973],\n",
       " [6.436821, 5.268514, 4.75133, 4.533641, 4.272429, 3.9424095],\n",
       " [8.586287, 5.7465353, 5.522024, 4.8516626, 4.4990015],\n",
       " [6.0472784, 5.689218, 5.534089, 5.122216, 4.211961],\n",
       " [6.401209,\n",
       "  4.736498,\n",
       "  4.709174,\n",
       "  4.855937,\n",
       "  4.6859164,\n",
       "  4.0195594,\n",
       "  3.7620828,\n",
       "  3.3743522],\n",
       " [7.347124,\n",
       "  6.2185297,\n",
       "  5.008321,\n",
       "  4.6852508,\n",
       "  4.3269434,\n",
       "  3.8260353,\n",
       "  3.4468377,\n",
       "  3.275116,\n",
       "  3.2100174],\n",
       " [6.651045, 5.817223],\n",
       " [3.7751157],\n",
       " [6.693556, 6.133028, 5.374279, 4.6284094, 4.3544226, 4.0665216, 2.3192937],\n",
       " [6.4564896,\n",
       "  6.9915137,\n",
       "  6.979486,\n",
       "  5.7449636,\n",
       "  4.385878,\n",
       "  4.2836,\n",
       "  4.010434,\n",
       "  3.6348026,\n",
       "  3.293599,\n",
       "  3.1074278,\n",
       "  3.1259067,\n",
       "  2.5336509,\n",
       "  2.1394427,\n",
       "  1.9346453],\n",
       " [7.0924854,\n",
       "  6.3687825,\n",
       "  5.1409793,\n",
       "  4.329156,\n",
       "  4.0087347,\n",
       "  3.7182393,\n",
       "  3.4536648,\n",
       "  3.288521,\n",
       "  3.1353352],\n",
       " [6.6758814, 6.0041656],\n",
       " [6.6920757, 5.724122, 5.0315495],\n",
       " [7.5463905, 5.9516816, 4.82345],\n",
       " [6.4020596,\n",
       "  5.81798,\n",
       "  5.485298,\n",
       "  4.8571243,\n",
       "  4.278036,\n",
       "  3.9731004,\n",
       "  3.973138,\n",
       "  3.810684],\n",
       " [6.5024824,\n",
       "  5.533061,\n",
       "  3.0033429,\n",
       "  3.1014621,\n",
       "  1.8657496,\n",
       "  1.7498935,\n",
       "  1.7545708,\n",
       "  2.471738,\n",
       "  2.5086691,\n",
       "  2.7318578],\n",
       " [7.0322533,\n",
       "  5.4178233,\n",
       "  4.778057,\n",
       "  4.896829,\n",
       "  4.41736,\n",
       "  3.7520082,\n",
       "  3.8117816,\n",
       "  3.3265994,\n",
       "  3.0680678,\n",
       "  3.1037323,\n",
       "  2.9798434],\n",
       " [7.061737, 6.723418],\n",
       " [7.0016723, 5.8608465, 5.0798855, 4.6752977],\n",
       " [6.3638353, 5.6246967],\n",
       " [6.526889,\n",
       "  5.4826946,\n",
       "  4.6234293,\n",
       "  4.2207346,\n",
       "  3.973014,\n",
       "  2.2758324,\n",
       "  1.8983222,\n",
       "  1.7499272],\n",
       " [6.5256414,\n",
       "  5.9537516,\n",
       "  5.4705095,\n",
       "  5.2222395,\n",
       "  3.5751393,\n",
       "  2.2615976,\n",
       "  1.7507669,\n",
       "  1.7596952,\n",
       "  2.2379308,\n",
       "  2.472893],\n",
       " [7.670491,\n",
       "  7.3378124,\n",
       "  6.1642284,\n",
       "  2.9415934,\n",
       "  2.0377038,\n",
       "  1.7500732,\n",
       "  2.7339375,\n",
       "  3.1665905,\n",
       "  2.2057197],\n",
       " [6.3353477,\n",
       "  6.2386365,\n",
       "  5.8693457,\n",
       "  5.5168467,\n",
       "  5.159768,\n",
       "  4.6896753,\n",
       "  3.729563,\n",
       "  2.2980616,\n",
       "  1.9010676,\n",
       "  2.2512498,\n",
       "  2.3896148,\n",
       "  1.9685494,\n",
       "  1.7559928,\n",
       "  1.7653964,\n",
       "  1.7779969,\n",
       "  1.7671756,\n",
       "  1.7653838,\n",
       "  1.7619532],\n",
       " [6.1328764,\n",
       "  5.4981112,\n",
       "  4.7798862,\n",
       "  4.5770183,\n",
       "  4.429727,\n",
       "  3.7159808,\n",
       "  3.2130034,\n",
       "  2.12612,\n",
       "  1.7498935],\n",
       " [6.810157,\n",
       "  6.2766685,\n",
       "  3.248629,\n",
       "  3.143268,\n",
       "  3.742309,\n",
       "  2.1888874,\n",
       "  2.1455824,\n",
       "  2.8524554,\n",
       "  2.7501438,\n",
       "  2.6740105],\n",
       " [8.963265,\n",
       "  8.495266,\n",
       "  7.635066,\n",
       "  5.391991,\n",
       "  4.994402,\n",
       "  4.178115,\n",
       "  4.046722,\n",
       "  3.504731,\n",
       "  3.12617,\n",
       "  3.2012386,\n",
       "  2.1334841,\n",
       "  1.7959808,\n",
       "  1.7612008],\n",
       " [6.304311,\n",
       "  5.3192687,\n",
       "  4.9086957,\n",
       "  4.2353406,\n",
       "  4.055225,\n",
       "  4.0771,\n",
       "  3.8915503,\n",
       "  3.6830685,\n",
       "  3.51484,\n",
       "  3.1139047,\n",
       "  2.482837,\n",
       "  1.8717324],\n",
       " [6.7212253,\n",
       "  6.133817,\n",
       "  5.1834264,\n",
       "  5.1528883,\n",
       "  5.2697525,\n",
       "  4.9599495,\n",
       "  4.1924453,\n",
       "  3.7161214],\n",
       " [6.324836, 5.7018566, 5.2197514, 4.5782433, 3.9530737, 3.531262],\n",
       " [],\n",
       " [6.3106523, 6.0512447, 5.737688],\n",
       " [7.024638, 6.4093513, 5.329589, 4.5458775, 4.390606, 2.3062985, 1.7499722],\n",
       " [4.791176,\n",
       "  4.505095,\n",
       "  4.8517647,\n",
       "  4.8590655,\n",
       "  4.85825,\n",
       "  4.4893017,\n",
       "  3.9403338,\n",
       "  3.5156355,\n",
       "  3.173648],\n",
       " [10.005701, 7.3023734, 6.375671, 2.9902263],\n",
       " [7.1288724,\n",
       "  5.9438143,\n",
       "  5.558333,\n",
       "  5.0336394,\n",
       "  5.203369,\n",
       "  4.888263,\n",
       "  4.2177715,\n",
       "  3.7498465,\n",
       "  2.9767604,\n",
       "  3.0584168,\n",
       "  2.0556705,\n",
       "  1.7571455,\n",
       "  1.7592431],\n",
       " [6.644416,\n",
       "  5.739523,\n",
       "  4.9995394,\n",
       "  4.0943885,\n",
       "  2.3441026,\n",
       "  1.995165,\n",
       "  2.4262373,\n",
       "  1.7929641],\n",
       " [6.7094603,\n",
       "  5.5696297,\n",
       "  5.05622,\n",
       "  4.7129383,\n",
       "  4.325282,\n",
       "  3.8430026,\n",
       "  3.4464924,\n",
       "  2.1743975,\n",
       "  1.7509907],\n",
       " [8.47447, 6.66677, 5.535693, 5.011035, 4.281515, 3.9936335, 3.8161461],\n",
       " [7.286458, 6.6363664],\n",
       " [6.7486486,\n",
       "  6.206207,\n",
       "  5.407875,\n",
       "  4.491311,\n",
       "  4.1306143,\n",
       "  4.118459,\n",
       "  3.80365,\n",
       "  3.5757816,\n",
       "  3.3251536,\n",
       "  2.7385035],\n",
       " [6.191174, 5.601598, 5.378594, 4.63304],\n",
       " [6.7517166,\n",
       "  6.081473,\n",
       "  5.445734,\n",
       "  4.570476,\n",
       "  4.3967986,\n",
       "  4.257245,\n",
       "  4.047573,\n",
       "  3.745296,\n",
       "  3.5362089,\n",
       "  3.0840104,\n",
       "  2.8788679],\n",
       " [6.625324,\n",
       "  5.770325,\n",
       "  5.0960946,\n",
       "  4.81044,\n",
       "  4.910984,\n",
       "  2.453873,\n",
       "  2.0346143,\n",
       "  2.4078732,\n",
       "  2.5637686,\n",
       "  2.8070056,\n",
       "  2.5497305,\n",
       "  2.4778402],\n",
       " [7.8875885, 7.040886, 6.0366488, 4.874239, 4.6064863, 2.412614, 2.0873175],\n",
       " [6.453566, 3.9771502, 4.012718, 2.5749876, 2.8613675],\n",
       " [6.6647367, 6.190248, 5.4896135, 5.2751307, 4.7327013, 2.839545],\n",
       " [5.925391, 5.7038755, 3.9872038, 2.3919258, 2.3489888, 3.2983634, 3.5028267],\n",
       " [6.200562, 5.660295, 5.6066337, 4.692704, 4.626899, 4.580985],\n",
       " [11.219241,\n",
       "  6.870202,\n",
       "  5.6301384,\n",
       "  5.000104,\n",
       "  4.676985,\n",
       "  4.0826254,\n",
       "  3.9208353,\n",
       "  3.4903958,\n",
       "  2.9720175,\n",
       "  2.0789793,\n",
       "  1.7506205],\n",
       " [6.882965,\n",
       "  6.0138636,\n",
       "  4.973544,\n",
       "  4.4750266,\n",
       "  4.6157627,\n",
       "  2.3663383,\n",
       "  1.9726955,\n",
       "  2.3100653],\n",
       " [6.747429, 6.687935, 5.5254908],\n",
       " [6.5514417,\n",
       "  6.254596,\n",
       "  5.4934344,\n",
       "  4.7845106,\n",
       "  4.674798,\n",
       "  4.187335,\n",
       "  3.632355,\n",
       "  2.2474546,\n",
       "  1.7501408],\n",
       " [7.703734,\n",
       "  6.7213593,\n",
       "  5.495181,\n",
       "  4.764523,\n",
       "  4.1737404,\n",
       "  3.8037415,\n",
       "  3.309106,\n",
       "  3.0520306,\n",
       "  2.7815447],\n",
       " [6.119483, 5.7519455, 3.3697708, 2.9086945],\n",
       " [6.999954,\n",
       "  6.1063232,\n",
       "  5.3174143,\n",
       "  4.628383,\n",
       "  4.343524,\n",
       "  3.9143994,\n",
       "  3.6046352,\n",
       "  3.496606,\n",
       "  3.5133102,\n",
       "  3.1888566],\n",
       " [6.9958944, 5.990427, 5.1005654, 4.4120483],\n",
       " [4.0980997, 2.7063313, 3.3507245, 4.2310734, 4.465747],\n",
       " [6.5346193,\n",
       "  5.7499685,\n",
       "  5.7377014,\n",
       "  4.917469,\n",
       "  4.2818832,\n",
       "  3.691101,\n",
       "  3.2103307,\n",
       "  2.9681304,\n",
       "  2.7930245,\n",
       "  2.449232,\n",
       "  2.2873695],\n",
       " [6.913233,\n",
       "  6.235534,\n",
       "  5.464035,\n",
       "  4.2881455,\n",
       "  3.868077,\n",
       "  3.6787355,\n",
       "  3.5329072,\n",
       "  2.189113],\n",
       " [4.130186],\n",
       " [6.6822567, 6.295144, 5.218737, 4.5208783],\n",
       " [6.987333,\n",
       "  6.0357203,\n",
       "  5.2549562,\n",
       "  4.5113297,\n",
       "  4.161972,\n",
       "  4.008344,\n",
       "  3.8200614,\n",
       "  3.5594637,\n",
       "  3.2855494,\n",
       "  3.0358164,\n",
       "  2.5999918],\n",
       " [4.1124535, 4.045227],\n",
       " [7.377325, 4.5139427, 2.6424892],\n",
       " [6.3894744, 5.786988, 2.7172382],\n",
       " [6.401981, 6.1044536, 5.242237],\n",
       " [6.094569, 6.1744223, 5.743399, 5.3720827, 5.0999107, 4.1613836],\n",
       " [6.8375826,\n",
       "  5.91976,\n",
       "  5.449251,\n",
       "  4.7928514,\n",
       "  4.189946,\n",
       "  3.7894685,\n",
       "  3.561188,\n",
       "  3.5493522,\n",
       "  3.2239053,\n",
       "  2.1248868,\n",
       "  1.7572039],\n",
       " [6.9319553, 5.8223057, 5.191607],\n",
       " [6.7700896,\n",
       "  6.1919956,\n",
       "  4.0339336,\n",
       "  3.582334,\n",
       "  4.229553,\n",
       "  3.9825666,\n",
       "  3.53577,\n",
       "  3.0888076,\n",
       "  2.1208417,\n",
       "  1.7539389]]"
      ]
     },
     "execution_count": 34,
     "metadata": {},
     "output_type": "execute_result"
    }
   ],
   "source": [
    "valPredict_Episodes"
   ]
  },
  {
   "cell_type": "code",
   "execution_count": 35,
   "metadata": {},
   "outputs": [],
   "source": [
    "def findMinPredictionsAllEpisode(predictedValuesEpisode):\n",
    "    minValues = []\n",
    "    for episode in predictedValuesEpisode:\n",
    "        if len(episode):\n",
    "            minPrediction = min(episode)\n",
    "            minValues.append(minPrediction)\n",
    "    return minValues"
   ]
  },
  {
   "cell_type": "code",
   "execution_count": 36,
   "metadata": {},
   "outputs": [],
   "source": [
    "valPredict_min = findMinPredictionsAllEpisode(valPredict_Episodes)"
   ]
  },
  {
   "cell_type": "code",
   "execution_count": 37,
   "metadata": {},
   "outputs": [
    {
     "data": {
      "text/plain": [
       "[3.5062726,\n",
       " 2.9689872,\n",
       " 2.177749,\n",
       " 2.3658154,\n",
       " 5.015624,\n",
       " 2.8082135,\n",
       " 2.3058996,\n",
       " 1.7551137,\n",
       " 6.359241,\n",
       " 4.7909527,\n",
       " 4.1299973,\n",
       " 3.9424095,\n",
       " 4.4990015,\n",
       " 4.211961,\n",
       " 3.3743522,\n",
       " 3.2100174,\n",
       " 5.817223,\n",
       " 3.7751157,\n",
       " 2.3192937,\n",
       " 1.9346453,\n",
       " 3.1353352,\n",
       " 6.0041656,\n",
       " 5.0315495,\n",
       " 4.82345,\n",
       " 3.810684,\n",
       " 1.7498935,\n",
       " 2.9798434,\n",
       " 6.723418,\n",
       " 4.6752977,\n",
       " 5.6246967,\n",
       " 1.7499272,\n",
       " 1.7507669,\n",
       " 1.7500732,\n",
       " 1.7559928,\n",
       " 1.7498935,\n",
       " 2.1455824,\n",
       " 1.7612008,\n",
       " 1.8717324,\n",
       " 3.7161214,\n",
       " 3.531262,\n",
       " 5.737688,\n",
       " 1.7499722,\n",
       " 3.173648,\n",
       " 2.9902263,\n",
       " 1.7571455,\n",
       " 1.7929641,\n",
       " 1.7509907,\n",
       " 3.8161461,\n",
       " 6.6363664,\n",
       " 2.7385035,\n",
       " 4.63304,\n",
       " 2.8788679,\n",
       " 2.0346143,\n",
       " 2.0873175,\n",
       " 2.5749876,\n",
       " 2.839545,\n",
       " 2.3489888,\n",
       " 4.580985,\n",
       " 1.7506205,\n",
       " 1.9726955,\n",
       " 5.5254908,\n",
       " 1.7501408,\n",
       " 2.7815447,\n",
       " 2.9086945,\n",
       " 3.1888566,\n",
       " 4.4120483,\n",
       " 2.7063313,\n",
       " 2.2873695,\n",
       " 2.189113,\n",
       " 4.130186,\n",
       " 4.5208783,\n",
       " 2.5999918,\n",
       " 4.045227,\n",
       " 2.6424892,\n",
       " 2.7172382,\n",
       " 5.242237,\n",
       " 4.1613836,\n",
       " 1.7572039,\n",
       " 5.191607,\n",
       " 1.7539389]"
      ]
     },
     "execution_count": 37,
     "metadata": {},
     "output_type": "execute_result"
    }
   ],
   "source": [
    "valPredict_min"
   ]
  },
  {
   "cell_type": "code",
   "execution_count": 38,
   "metadata": {},
   "outputs": [
    {
     "data": {
      "image/png": "[encoded data removed]",
      "text/plain": [
       "<Figure size 1152x432 with 1 Axes>"
      ]
     },
     "metadata": {
      "needs_background": "light"
     },
     "output_type": "display_data"
    }
   ],
   "source": [
    "#plot scatter plot\n",
    "indexes = [i for i in range(len(valPredict_min))]\n",
    "plt.figure(figsize=(16, 6))\n",
    "plt.scatter(indexes, valPredict_min)\n",
    "plt.axhline(y=4, color='k', linestyle='-')\n",
    "plt.axhline(y=3, color='red', linestyle='-')\n",
    "plt.show()"
   ]
  },
  {
   "cell_type": "code",
   "execution_count": 39,
   "metadata": {},
   "outputs": [
    {
     "data": {
      "text/plain": [
       "{'whiskers': [<matplotlib.lines.Line2D at 0x22601d1d1f0>,\n",
       "  <matplotlib.lines.Line2D at 0x22601d1d550>],\n",
       " 'caps': [<matplotlib.lines.Line2D at 0x22601d1d8b0>,\n",
       "  <matplotlib.lines.Line2D at 0x22601d1dc10>],\n",
       " 'boxes': [<matplotlib.lines.Line2D at 0x22601d01e50>],\n",
       " 'medians': [<matplotlib.lines.Line2D at 0x22601d1df70>],\n",
       " 'fliers': [<matplotlib.lines.Line2D at 0x22601d27310>],\n",
       " 'means': []}"
      ]
     },
     "execution_count": 39,
     "metadata": {},
     "output_type": "execute_result"
    },
    {
     "data": {
      "image/png": "[encoded data removed]",
      "text/plain": [
       "<Figure size 432x288 with 1 Axes>"
      ]
     },
     "metadata": {
      "needs_background": "light"
     },
     "output_type": "display_data"
    }
   ],
   "source": [
    "#plot boxplot\n",
    "plt.boxplot(valPredict_min)"
   ]
  },
  {
   "cell_type": "code",
   "execution_count": 40,
   "metadata": {},
   "outputs": [
    {
     "data": {
      "text/plain": [
       "6.723418"
      ]
     },
     "execution_count": 40,
     "metadata": {},
     "output_type": "execute_result"
    }
   ],
   "source": [
    "max(valPredict_min)"
   ]
  },
  {
   "cell_type": "code",
   "execution_count": 41,
   "metadata": {},
   "outputs": [],
   "source": [
    "#find percentage of degradation failure episodes\n",
    "def findDegradationEpisodesPercentage(data):\n",
    "    episodeCount = 0\n",
    "    degradationEpisodeCount = 0\n",
    "    for episode in data:\n",
    "        episodeCount += 1\n",
    "        lastInstance = episode[-1]\n",
    "        lastState = lastInstance[-1]\n",
    "        if lastState == 4:\n",
    "            degradationEpisodeCount += 1\n",
    "    return degradationEpisodeCount/episodeCount"
   ]
  },
  {
   "cell_type": "code",
   "execution_count": 42,
   "metadata": {},
   "outputs": [
    {
     "data": {
      "text/plain": [
       "[1.7498935,\n",
       " 1.7498935,\n",
       " 1.7499272,\n",
       " 1.7499722,\n",
       " 1.7500732,\n",
       " 1.7501408,\n",
       " 1.7506205,\n",
       " 1.7507669,\n",
       " 1.7509907,\n",
       " 1.7539389,\n",
       " 1.7551137,\n",
       " 1.7559928,\n",
       " 1.7571455,\n",
       " 1.7572039,\n",
       " 1.7612008,\n",
       " 1.7929641,\n",
       " 1.8717324,\n",
       " 1.9346453,\n",
       " 1.9726955,\n",
       " 2.0346143,\n",
       " 2.0873175,\n",
       " 2.1455824,\n",
       " 2.177749,\n",
       " 2.189113,\n",
       " 2.2873695,\n",
       " 2.3058996,\n",
       " 2.3192937,\n",
       " 2.3489888,\n",
       " 2.3658154,\n",
       " 2.5749876,\n",
       " 2.5999918,\n",
       " 2.6424892,\n",
       " 2.7063313,\n",
       " 2.7172382,\n",
       " 2.7385035,\n",
       " 2.7815447,\n",
       " 2.8082135,\n",
       " 2.839545,\n",
       " 2.8788679,\n",
       " 2.9086945,\n",
       " 2.9689872,\n",
       " 2.9798434,\n",
       " 2.9902263,\n",
       " 3.1353352,\n",
       " 3.173648,\n",
       " 3.1888566,\n",
       " 3.2100174,\n",
       " 3.3743522,\n",
       " 3.5062726,\n",
       " 3.531262,\n",
       " 3.7161214,\n",
       " 3.7751157,\n",
       " 3.810684,\n",
       " 3.8161461,\n",
       " 3.9424095,\n",
       " 4.045227,\n",
       " 4.1299973,\n",
       " 4.130186,\n",
       " 4.1613836,\n",
       " 4.211961,\n",
       " 4.4120483,\n",
       " 4.4990015,\n",
       " 4.5208783,\n",
       " 4.580985,\n",
       " 4.63304,\n",
       " 4.6752977,\n",
       " 4.7909527,\n",
       " 4.82345,\n",
       " 5.015624,\n",
       " 5.0315495,\n",
       " 5.191607,\n",
       " 5.242237,\n",
       " 5.5254908,\n",
       " 5.6246967,\n",
       " 5.737688,\n",
       " 5.817223,\n",
       " 6.0041656,\n",
       " 6.359241,\n",
       " 6.6363664,\n",
       " 6.723418]"
      ]
     },
     "execution_count": 42,
     "metadata": {},
     "output_type": "execute_result"
    }
   ],
   "source": [
    "#arrange values from small to large\n",
    "valPredict_min_sorted = sorted(valPredict_min)\n",
    "valPredict_min_sorted"
   ]
  },
  {
   "cell_type": "code",
   "execution_count": 43,
   "metadata": {},
   "outputs": [
    {
     "data": {
      "text/plain": [
       "5.737688"
      ]
     },
     "execution_count": 43,
     "metadata": {},
     "output_type": "execute_result"
    }
   ],
   "source": [
    "#find index cutoff\n",
    "degradationPercentage = findDegradationEpisodesPercentage(val_data)\n",
    "cutoff_Index = int(degradationPercentage*len(valPredict_min_sorted))\n",
    "cutoffValue = valPredict_min_sorted[cutoff_Index]\n",
    "cutoffValue"
   ]
  },
  {
   "cell_type": "markdown",
   "metadata": {},
   "source": [
    "Find RUL predictions by state"
   ]
  },
  {
   "cell_type": "code",
   "execution_count": 44,
   "metadata": {},
   "outputs": [],
   "source": [
    "def getStateValuesByChunk(data, state, chunk_size):\n",
    "    stateValues = []\n",
    "    for episode in data:\n",
    "        for order in range(0, len(episode)):\n",
    "            diff = len(episode) - order\n",
    "            if diff > chunk_size:\n",
    "                currentState = int(episode[order+chunk_size][8])\n",
    "                if currentState == state:\n",
    "                    stateValues.append(int(episode[order+chunk_size][0]))\n",
    "    return stateValues"
   ]
  },
  {
   "cell_type": "code",
   "execution_count": 45,
   "metadata": {},
   "outputs": [],
   "source": [
    "def findRULValuesByState(RULlist, timeList, data, state, chunk_size):\n",
    "    stateRulValues = []\n",
    "    stateTimeList = getStateValuesByChunk(data, state, chunk_size)\n",
    "    for s in stateTimeList:\n",
    "        specificIndex = timeList.index(s)\n",
    "        specificRUL = RULlist[specificIndex][0]\n",
    "        stateRulValues.append(specificRUL)\n",
    "    return stateRulValues"
   ]
  },
  {
   "cell_type": "code",
   "execution_count": 46,
   "metadata": {},
   "outputs": [],
   "source": [
    "from statistics import mean\n",
    "def findMinMaxMean(values):\n",
    "    minValue = min(values)\n",
    "    maxValue = max(values)\n",
    "    meanValue = mean(values)\n",
    "    print(\"Min value is %f. Mean value is %f. Max Value is %f\" % (minValue, meanValue, maxValue))"
   ]
  },
  {
   "cell_type": "markdown",
   "metadata": {},
   "source": [
    "State 0"
   ]
  },
  {
   "cell_type": "code",
   "execution_count": 47,
   "metadata": {},
   "outputs": [
    {
     "data": {
      "text/plain": [
       "[6.4174175,\n",
       " 6.4564896,\n",
       " 6.9915137,\n",
       " 6.979486,\n",
       " 5.7449636,\n",
       " 4.385878,\n",
       " 4.2836,\n",
       " 4.010434,\n",
       " 6.4020596,\n",
       " 5.81798,\n",
       " 5.485298,\n",
       " 4.8571243,\n",
       " 6.3353477,\n",
       " 6.2386365,\n",
       " 5.8693457,\n",
       " 5.5168467,\n",
       " 5.159768,\n",
       " 4.6896753,\n",
       " 3.729563,\n",
       " 8.963265,\n",
       " 8.495266,\n",
       " 6.999954,\n",
       " 6.987333,\n",
       " 6.0357203,\n",
       " 5.2549562,\n",
       " 6.094569]"
      ]
     },
     "execution_count": 47,
     "metadata": {},
     "output_type": "execute_result"
    }
   ],
   "source": [
    "#state 0 \n",
    "state0RUL = findRULValuesByState(valPredict2, valTime_4step_TAD, val_data, 0, 4)\n",
    "state0RUL"
   ]
  },
  {
   "cell_type": "code",
   "execution_count": 48,
   "metadata": {},
   "outputs": [
    {
     "name": "stdout",
     "output_type": "stream",
     "text": [
      "Min value is 3.729563. Mean value is 5.930865. Max Value is 8.963265\n"
     ]
    }
   ],
   "source": [
    "#state 0\n",
    "findMinMaxMean(state0RUL)"
   ]
  },
  {
   "cell_type": "code",
   "execution_count": 49,
   "metadata": {},
   "outputs": [
    {
     "data": {
      "text/plain": [
       "{'whiskers': [<matplotlib.lines.Line2D at 0x22601612c10>,\n",
       "  <matplotlib.lines.Line2D at 0x22601612850>],\n",
       " 'caps': [<matplotlib.lines.Line2D at 0x22601b5b820>,\n",
       "  <matplotlib.lines.Line2D at 0x22601b5bd30>],\n",
       " 'boxes': [<matplotlib.lines.Line2D at 0x22601612d60>],\n",
       " 'medians': [<matplotlib.lines.Line2D at 0x22601b5bfa0>],\n",
       " 'fliers': [<matplotlib.lines.Line2D at 0x22601b5b190>],\n",
       " 'means': []}"
      ]
     },
     "execution_count": 49,
     "metadata": {},
     "output_type": "execute_result"
    },
    {
     "data": {
      "image/png": "[encoded data removed]",
      "text/plain": [
       "<Figure size 432x288 with 1 Axes>"
      ]
     },
     "metadata": {
      "needs_background": "light"
     },
     "output_type": "display_data"
    }
   ],
   "source": [
    "#plot boxplot\n",
    "plt.boxplot(state0RUL)"
   ]
  },
  {
   "cell_type": "markdown",
   "metadata": {},
   "source": [
    "State 1"
   ]
  },
  {
   "cell_type": "code",
   "execution_count": 50,
   "metadata": {},
   "outputs": [
    {
     "data": {
      "text/plain": [
       "[5.69571,\n",
       " 5.2754154,\n",
       " 4.827429,\n",
       " 4.3029776,\n",
       " 3.9096746,\n",
       " 3.929145,\n",
       " 6.728034,\n",
       " 6.007189,\n",
       " 5.1691694,\n",
       " 4.5330076,\n",
       " 6.94369,\n",
       " 6.1428604,\n",
       " 5.460983,\n",
       " 6.4450645,\n",
       " 4.6037188,\n",
       " 4.9173183,\n",
       " 5.243086,\n",
       " 5.1411924,\n",
       " 4.5895424,\n",
       " 4.4208164,\n",
       " 6.9847794,\n",
       " 6.0138555,\n",
       " 5.324556,\n",
       " 4.8044376,\n",
       " 6.436821,\n",
       " 5.268514,\n",
       " 4.75133,\n",
       " 4.533641,\n",
       " 8.586287,\n",
       " 6.401209,\n",
       " 4.736498,\n",
       " 7.347124,\n",
       " 6.2185297,\n",
       " 5.008321,\n",
       " 6.693556,\n",
       " 6.133028,\n",
       " 5.374279,\n",
       " 4.6284094,\n",
       " 3.6348026,\n",
       " 3.293599,\n",
       " 3.1074278,\n",
       " 3.1259067,\n",
       " 7.0924854,\n",
       " 4.278036,\n",
       " 3.9731004,\n",
       " 6.5024824,\n",
       " 5.533061,\n",
       " 7.0322533,\n",
       " 5.4178233,\n",
       " 7.0016723,\n",
       " 5.8608465,\n",
       " 6.526889,\n",
       " 7.670491,\n",
       " 2.2980616,\n",
       " 1.9010676,\n",
       " 6.1328764,\n",
       " 7.635066,\n",
       " 5.391991,\n",
       " 6.304311,\n",
       " 5.3192687,\n",
       " 6.7212253,\n",
       " 6.133817,\n",
       " 5.1834264,\n",
       " 5.1528883,\n",
       " 5.2697525,\n",
       " 4.9599495,\n",
       " 4.1924453,\n",
       " 3.7161214,\n",
       " 6.324836,\n",
       " 6.3106523,\n",
       " 7.024638,\n",
       " 6.4093513,\n",
       " 10.005701,\n",
       " 7.1288724,\n",
       " 5.9438143,\n",
       " 5.558333,\n",
       " 5.0336394,\n",
       " 5.203369,\n",
       " 4.888263,\n",
       " 6.7094603,\n",
       " 5.5696297,\n",
       " 8.47447,\n",
       " 6.7486486,\n",
       " 6.7517166,\n",
       " 6.081473,\n",
       " 5.445734,\n",
       " 4.570476,\n",
       " 4.3967986,\n",
       " 4.257245,\n",
       " 4.047573,\n",
       " 6.625324,\n",
       " 5.770325,\n",
       " 5.0960946,\n",
       " 4.81044,\n",
       " 4.910984,\n",
       " 2.453873,\n",
       " 7.8875885,\n",
       " 7.040886,\n",
       " 6.453566,\n",
       " 3.9771502,\n",
       " 6.6647367,\n",
       " 6.190248,\n",
       " 5.925391,\n",
       " 5.7038755,\n",
       " 6.200562,\n",
       " 5.660295,\n",
       " 5.6066337,\n",
       " 11.219241,\n",
       " 6.870202,\n",
       " 5.6301384,\n",
       " 5.000104,\n",
       " 6.1063232,\n",
       " 6.9958944,\n",
       " 5.990427,\n",
       " 6.5346193,\n",
       " 5.7499685,\n",
       " 5.7377014,\n",
       " 4.917469,\n",
       " 4.2818832,\n",
       " 3.691101,\n",
       " 6.913233,\n",
       " 6.235534,\n",
       " 6.6822567,\n",
       " 4.5113297,\n",
       " 4.161972,\n",
       " 6.401981,\n",
       " 6.1744223,\n",
       " 5.743399,\n",
       " 6.8375826,\n",
       " 5.91976,\n",
       " 5.449251]"
      ]
     },
     "execution_count": 50,
     "metadata": {},
     "output_type": "execute_result"
    }
   ],
   "source": [
    "#state 1 \n",
    "state1RUL = findRULValuesByState(valPredict2, valTime_4step_TAD, val_data, 1, 4)\n",
    "state1RUL"
   ]
  },
  {
   "cell_type": "code",
   "execution_count": 51,
   "metadata": {},
   "outputs": [
    {
     "name": "stdout",
     "output_type": "stream",
     "text": [
      "Min value is 1.901068. Mean value is 5.645136. Max Value is 11.219241\n"
     ]
    }
   ],
   "source": [
    "#state 1\n",
    "findMinMaxMean(state1RUL)"
   ]
  },
  {
   "cell_type": "code",
   "execution_count": 52,
   "metadata": {},
   "outputs": [
    {
     "data": {
      "text/plain": [
       "{'whiskers': [<matplotlib.lines.Line2D at 0x2260133a640>,\n",
       "  <matplotlib.lines.Line2D at 0x22601315fd0>],\n",
       " 'caps': [<matplotlib.lines.Line2D at 0x2267ffb29d0>,\n",
       "  <matplotlib.lines.Line2D at 0x2267ffb20a0>],\n",
       " 'boxes': [<matplotlib.lines.Line2D at 0x2260133a340>],\n",
       " 'medians': [<matplotlib.lines.Line2D at 0x2267ffb24c0>],\n",
       " 'fliers': [<matplotlib.lines.Line2D at 0x2267ffb2d00>],\n",
       " 'means': []}"
      ]
     },
     "execution_count": 52,
     "metadata": {},
     "output_type": "execute_result"
    },
    {
     "data": {
      "image/png": "[encoded data removed]",
      "text/plain": [
       "<Figure size 432x288 with 1 Axes>"
      ]
     },
     "metadata": {
      "needs_background": "light"
     },
     "output_type": "display_data"
    }
   ],
   "source": [
    "#plot boxplot\n",
    "plt.boxplot(state1RUL)"
   ]
  },
  {
   "cell_type": "markdown",
   "metadata": {},
   "source": [
    "State 2"
   ]
  },
  {
   "cell_type": "code",
   "execution_count": 53,
   "metadata": {},
   "outputs": [
    {
     "data": {
      "text/plain": [
       "[3.5537248,\n",
       " 6.1096907,\n",
       " 5.1416764,\n",
       " 4.662638,\n",
       " 4.590067,\n",
       " 7.230675,\n",
       " 6.3991013,\n",
       " 4.144803,\n",
       " 4.078834,\n",
       " 3.8332908,\n",
       " 3.777937,\n",
       " 3.391351,\n",
       " 6.3384957,\n",
       " 4.503948,\n",
       " 4.051606,\n",
       " 4.1038694,\n",
       " 3.985574,\n",
       " 4.7170877,\n",
       " 6.875349,\n",
       " 4.272429,\n",
       " 5.7465353,\n",
       " 5.522024,\n",
       " 6.0472784,\n",
       " 5.689218,\n",
       " 5.534089,\n",
       " 5.122216,\n",
       " 4.709174,\n",
       " 4.855937,\n",
       " 4.6859164,\n",
       " 4.6852508,\n",
       " 4.3269434,\n",
       " 3.8260353,\n",
       " 3.4468377,\n",
       " 3.275116,\n",
       " 6.651045,\n",
       " 4.3544226,\n",
       " 2.5336509,\n",
       " 2.1394427,\n",
       " 6.3687825,\n",
       " 5.1409793,\n",
       " 4.329156,\n",
       " 4.0087347,\n",
       " 3.7182393,\n",
       " 6.6758814,\n",
       " 6.6920757,\n",
       " 5.724122,\n",
       " 7.5463905,\n",
       " 3.973138,\n",
       " 3.0033429,\n",
       " 4.778057,\n",
       " 4.896829,\n",
       " 4.41736,\n",
       " 3.7520082,\n",
       " 3.8117816,\n",
       " 3.3265994,\n",
       " 3.0680678,\n",
       " 7.061737,\n",
       " 5.0798855,\n",
       " 5.4826946,\n",
       " 4.6234293,\n",
       " 4.2207346,\n",
       " 6.5256414,\n",
       " 5.9537516,\n",
       " 5.4705095,\n",
       " 5.2222395,\n",
       " 7.3378124,\n",
       " 6.1642284,\n",
       " 2.9415934,\n",
       " 2.0377038,\n",
       " 1.7500732,\n",
       " 2.2512498,\n",
       " 2.3896148,\n",
       " 1.9685494,\n",
       " 1.7559928,\n",
       " 1.7653964,\n",
       " 5.4981112,\n",
       " 4.7798862,\n",
       " 4.5770183,\n",
       " 6.810157,\n",
       " 6.2766685,\n",
       " 3.248629,\n",
       " 3.143268,\n",
       " 3.742309,\n",
       " 2.1888874,\n",
       " 2.1455824,\n",
       " 2.8524554,\n",
       " 4.994402,\n",
       " 4.178115,\n",
       " 4.046722,\n",
       " 3.504731,\n",
       " 3.12617,\n",
       " 4.9086957,\n",
       " 4.2353406,\n",
       " 4.055225,\n",
       " 4.0771,\n",
       " 3.8915503,\n",
       " 3.6830685,\n",
       " 3.51484,\n",
       " 5.7018566,\n",
       " 6.0512447,\n",
       " 5.329589,\n",
       " 4.791176,\n",
       " 4.505095,\n",
       " 4.8517647,\n",
       " 4.8590655,\n",
       " 4.85825,\n",
       " 4.4893017,\n",
       " 3.9403338,\n",
       " 7.3023734,\n",
       " 4.2177715,\n",
       " 3.7498465,\n",
       " 2.9767604,\n",
       " 3.0584168,\n",
       " 2.0556705,\n",
       " 6.644416,\n",
       " 5.05622,\n",
       " 4.7129383,\n",
       " 4.325282,\n",
       " 6.66677,\n",
       " 5.535693,\n",
       " 5.011035,\n",
       " 7.286458,\n",
       " 6.206207,\n",
       " 5.407875,\n",
       " 4.491311,\n",
       " 4.1306143,\n",
       " 4.118459,\n",
       " 3.80365,\n",
       " 3.5757816,\n",
       " 3.3251536,\n",
       " 6.191174,\n",
       " 5.601598,\n",
       " 5.378594,\n",
       " 3.745296,\n",
       " 3.5362089,\n",
       " 3.0840104,\n",
       " 2.0346143,\n",
       " 2.4078732,\n",
       " 2.5637686,\n",
       " 2.8070056,\n",
       " 2.5497305,\n",
       " 6.0366488,\n",
       " 4.874239,\n",
       " 4.012718,\n",
       " 5.4896135,\n",
       " 5.2751307,\n",
       " 4.7327013,\n",
       " 3.9872038,\n",
       " 2.3919258,\n",
       " 2.3489888,\n",
       " 4.692704,\n",
       " 4.626899,\n",
       " 4.676985,\n",
       " 4.0826254,\n",
       " 3.9208353,\n",
       " 3.4903958,\n",
       " 6.882965,\n",
       " 6.0138636,\n",
       " 4.973544,\n",
       " 4.4750266,\n",
       " 6.747429,\n",
       " 6.5514417,\n",
       " 6.254596,\n",
       " 5.4934344,\n",
       " 4.7845106,\n",
       " 4.674798,\n",
       " 7.703734,\n",
       " 6.7213593,\n",
       " 5.495181,\n",
       " 4.764523,\n",
       " 4.1737404,\n",
       " 6.119483,\n",
       " 5.7519455,\n",
       " 3.3697708,\n",
       " 2.9086945,\n",
       " 5.3174143,\n",
       " 4.628383,\n",
       " 4.343524,\n",
       " 3.9143994,\n",
       " 3.6046352,\n",
       " 3.496606,\n",
       " 3.5133102,\n",
       " 5.1005654,\n",
       " 4.0980997,\n",
       " 2.7063313,\n",
       " 3.2103307,\n",
       " 2.9681304,\n",
       " 5.464035,\n",
       " 6.295144,\n",
       " 5.218737,\n",
       " 4.5208783,\n",
       " 4.008344,\n",
       " 3.8200614,\n",
       " 3.5594637,\n",
       " 3.2855494,\n",
       " 3.0358164,\n",
       " 4.1124535,\n",
       " 6.1044536,\n",
       " 5.3720827,\n",
       " 4.7928514,\n",
       " 4.189946,\n",
       " 3.7894685,\n",
       " 3.561188,\n",
       " 6.7700896,\n",
       " 6.1919956,\n",
       " 4.0339336,\n",
       " 3.582334]"
      ]
     },
     "execution_count": 53,
     "metadata": {},
     "output_type": "execute_result"
    }
   ],
   "source": [
    "#state 2 \n",
    "state2RUL = findRULValuesByState(valPredict2, valTime_4step_TAD, val_data, 2, 4)\n",
    "state2RUL"
   ]
  },
  {
   "cell_type": "code",
   "execution_count": 54,
   "metadata": {},
   "outputs": [
    {
     "name": "stdout",
     "output_type": "stream",
     "text": [
      "Min value is 1.750073. Mean value is 4.529821. Max Value is 7.703734\n"
     ]
    }
   ],
   "source": [
    "#state 2\n",
    "findMinMaxMean(state2RUL)"
   ]
  },
  {
   "cell_type": "code",
   "execution_count": 55,
   "metadata": {},
   "outputs": [
    {
     "data": {
      "text/plain": [
       "{'whiskers': [<matplotlib.lines.Line2D at 0x226011e5460>,\n",
       "  <matplotlib.lines.Line2D at 0x226011e5f10>],\n",
       " 'caps': [<matplotlib.lines.Line2D at 0x2267ebe02b0>,\n",
       "  <matplotlib.lines.Line2D at 0x2267ebe03d0>],\n",
       " 'boxes': [<matplotlib.lines.Line2D at 0x226011e57c0>],\n",
       " 'medians': [<matplotlib.lines.Line2D at 0x2267ebe0d90>],\n",
       " 'fliers': [<matplotlib.lines.Line2D at 0x2267ebe0040>],\n",
       " 'means': []}"
      ]
     },
     "execution_count": 55,
     "metadata": {},
     "output_type": "execute_result"
    },
    {
     "data": {
      "image/png": "[encoded data removed]",
      "text/plain": [
       "<Figure size 432x288 with 1 Axes>"
      ]
     },
     "metadata": {
      "needs_background": "light"
     },
     "output_type": "display_data"
    }
   ],
   "source": [
    "#plot boxplot\n",
    "plt.boxplot(state2RUL)"
   ]
  },
  {
   "cell_type": "markdown",
   "metadata": {},
   "source": [
    "State 3"
   ]
  },
  {
   "cell_type": "code",
   "execution_count": 56,
   "metadata": {},
   "outputs": [
    {
     "data": {
      "text/plain": [
       "[3.5062726,\n",
       " 4.305699,\n",
       " 4.1230803,\n",
       " 3.5057843,\n",
       " 2.9689872,\n",
       " 5.326668,\n",
       " 2.6566844,\n",
       " 2.177749,\n",
       " 2.705617,\n",
       " 2.3658154,\n",
       " 6.1960135,\n",
       " 5.015624,\n",
       " 3.840103,\n",
       " 3.372923,\n",
       " 2.8082135,\n",
       " 2.3058996,\n",
       " 4.352425,\n",
       " 2.380914,\n",
       " 1.783114,\n",
       " 1.7551137,\n",
       " 6.359241,\n",
       " 6.1558094,\n",
       " 5.3864355,\n",
       " 4.7909527,\n",
       " 5.7370033,\n",
       " 4.1299973,\n",
       " 3.9424095,\n",
       " 4.8516626,\n",
       " 4.4990015,\n",
       " 4.211961,\n",
       " 4.0195594,\n",
       " 3.7620828,\n",
       " 3.3743522,\n",
       " 3.2100174,\n",
       " 5.817223,\n",
       " 3.7751157,\n",
       " 4.0665216,\n",
       " 2.3192937,\n",
       " 1.9346453,\n",
       " 3.4536648,\n",
       " 3.288521,\n",
       " 3.1353352,\n",
       " 6.0041656,\n",
       " 5.0315495,\n",
       " 5.9516816,\n",
       " 4.82345,\n",
       " 3.810684,\n",
       " 3.1014621,\n",
       " 1.8657496,\n",
       " 1.7498935,\n",
       " 1.7545708,\n",
       " 2.471738,\n",
       " 2.5086691,\n",
       " 2.7318578,\n",
       " 3.1037323,\n",
       " 2.9798434,\n",
       " 6.723418,\n",
       " 4.6752977,\n",
       " 6.3638353,\n",
       " 5.6246967,\n",
       " 3.973014,\n",
       " 2.2758324,\n",
       " 1.8983222,\n",
       " 1.7499272,\n",
       " 3.5751393,\n",
       " 2.2615976,\n",
       " 1.7507669,\n",
       " 1.7596952,\n",
       " 2.2379308,\n",
       " 2.472893,\n",
       " 2.7339375,\n",
       " 3.1665905,\n",
       " 2.2057197,\n",
       " 1.7779969,\n",
       " 1.7671756,\n",
       " 1.7653838,\n",
       " 1.7619532,\n",
       " 4.429727,\n",
       " 3.7159808,\n",
       " 3.2130034,\n",
       " 2.12612,\n",
       " 1.7498935,\n",
       " 2.7501438,\n",
       " 2.6740105,\n",
       " 3.2012386,\n",
       " 2.1334841,\n",
       " 1.7959808,\n",
       " 1.7612008,\n",
       " 3.1139047,\n",
       " 2.482837,\n",
       " 1.8717324,\n",
       " 5.2197514,\n",
       " 4.5782433,\n",
       " 3.9530737,\n",
       " 3.531262,\n",
       " 5.737688,\n",
       " 4.5458775,\n",
       " 4.390606,\n",
       " 2.3062985,\n",
       " 1.7499722,\n",
       " 3.5156355,\n",
       " 3.173648,\n",
       " 6.375671,\n",
       " 2.9902263,\n",
       " 1.7571455,\n",
       " 1.7592431,\n",
       " 5.739523,\n",
       " 4.9995394,\n",
       " 4.0943885,\n",
       " 2.3441026,\n",
       " 1.995165,\n",
       " 2.4262373,\n",
       " 1.7929641,\n",
       " 3.8430026,\n",
       " 3.4464924,\n",
       " 2.1743975,\n",
       " 1.7509907,\n",
       " 4.281515,\n",
       " 3.9936335,\n",
       " 3.8161461,\n",
       " 6.6363664,\n",
       " 2.7385035,\n",
       " 4.63304,\n",
       " 2.8788679,\n",
       " 2.4778402,\n",
       " 4.6064863,\n",
       " 2.412614,\n",
       " 2.0873175,\n",
       " 2.5749876,\n",
       " 2.8613675,\n",
       " 2.839545,\n",
       " 3.2983634,\n",
       " 3.5028267,\n",
       " 4.580985,\n",
       " 2.9720175,\n",
       " 2.0789793,\n",
       " 1.7506205,\n",
       " 4.6157627,\n",
       " 2.3663383,\n",
       " 1.9726955,\n",
       " 2.3100653,\n",
       " 6.687935,\n",
       " 5.5254908,\n",
       " 4.187335,\n",
       " 3.632355,\n",
       " 2.2474546,\n",
       " 1.7501408,\n",
       " 3.8037415,\n",
       " 3.309106,\n",
       " 3.0520306,\n",
       " 2.7815447,\n",
       " 3.1888566,\n",
       " 4.4120483,\n",
       " 3.3507245,\n",
       " 4.2310734,\n",
       " 4.465747,\n",
       " 2.7930245,\n",
       " 2.449232,\n",
       " 2.2873695,\n",
       " 4.2881455,\n",
       " 3.868077,\n",
       " 3.6787355,\n",
       " 3.5329072,\n",
       " 2.189113,\n",
       " 4.130186,\n",
       " 2.5999918,\n",
       " 4.045227,\n",
       " 7.377325,\n",
       " 4.5139427,\n",
       " 2.6424892,\n",
       " 6.3894744,\n",
       " 5.786988,\n",
       " 2.7172382,\n",
       " 5.242237,\n",
       " 5.0999107,\n",
       " 4.1613836,\n",
       " 3.5493522,\n",
       " 3.2239053,\n",
       " 2.1248868,\n",
       " 1.7572039,\n",
       " 6.9319553,\n",
       " 5.8223057,\n",
       " 5.191607,\n",
       " 4.229553,\n",
       " 3.9825666,\n",
       " 3.53577,\n",
       " 3.0888076,\n",
       " 2.1208417,\n",
       " 1.7539389]"
      ]
     },
     "execution_count": 56,
     "metadata": {},
     "output_type": "execute_result"
    }
   ],
   "source": [
    "#state 3 \n",
    "state3RUL = findRULValuesByState(valPredict2, valTime_4step_TAD, val_data, 3, 4)\n",
    "state3RUL"
   ]
  },
  {
   "cell_type": "code",
   "execution_count": 57,
   "metadata": {},
   "outputs": [
    {
     "name": "stdout",
     "output_type": "stream",
     "text": [
      "Min value is 1.749894. Mean value is 3.488425. Max Value is 7.377325\n"
     ]
    }
   ],
   "source": [
    "#state 3\n",
    "findMinMaxMean(state3RUL)"
   ]
  },
  {
   "cell_type": "code",
   "execution_count": 58,
   "metadata": {},
   "outputs": [
    {
     "data": {
      "text/plain": [
       "{'whiskers': [<matplotlib.lines.Line2D at 0x2267fe36490>,\n",
       "  <matplotlib.lines.Line2D at 0x2267d71f1f0>],\n",
       " 'caps': [<matplotlib.lines.Line2D at 0x2267d71f970>,\n",
       "  <matplotlib.lines.Line2D at 0x2267d71fa60>],\n",
       " 'boxes': [<matplotlib.lines.Line2D at 0x2267fe36880>],\n",
       " 'medians': [<matplotlib.lines.Line2D at 0x2267d71f250>],\n",
       " 'fliers': [<matplotlib.lines.Line2D at 0x2267d71f5b0>],\n",
       " 'means': []}"
      ]
     },
     "execution_count": 58,
     "metadata": {},
     "output_type": "execute_result"
    },
    {
     "data": {
      "image/png": "[encoded data removed]",
      "text/plain": [
       "<Figure size 432x288 with 1 Axes>"
      ]
     },
     "metadata": {
      "needs_background": "light"
     },
     "output_type": "display_data"
    }
   ],
   "source": [
    "#plot boxplot\n",
    "plt.boxplot(state3RUL)"
   ]
  },
  {
   "cell_type": "markdown",
   "metadata": {},
   "source": [
    "State 4"
   ]
  },
  {
   "cell_type": "code",
   "execution_count": 59,
   "metadata": {},
   "outputs": [
    {
     "data": {
      "text/plain": [
       "[3.2059643,\n",
       " 2.770444,\n",
       " 2.8721416,\n",
       " 2.1667871,\n",
       " 4.263155,\n",
       " 2.447316,\n",
       " 1.7632297,\n",
       " 2.109566,\n",
       " 4.6760283,\n",
       " 5.2941065,\n",
       " 4.432777,\n",
       " 3.32038,\n",
       " 2.2920945,\n",
       " 2.3994565,\n",
       " 3.5246499,\n",
       " 2.1509244,\n",
       " 2.1215937,\n",
       " 2.481181,\n",
       " 1.7577757,\n",
       " 1.784088,\n",
       " 2.7519777,\n",
       " 5.1147766,\n",
       " 2.524427,\n",
       " 2.431318,\n",
       " 2.2704284,\n",
       " 2.4594285,\n",
       " 2.3428671,\n",
       " 4.1301875,\n",
       " 5.1138353,\n",
       " 1.7532057,\n",
       " 1.8608092,\n",
       " 1.7521452,\n",
       " 1.7669266,\n",
       " 1.8394748,\n",
       " 2.44296,\n",
       " 1.7559582,\n",
       " 1.7567247,\n",
       " 3.286557,\n",
       " 6.289236,\n",
       " 4.9117837,\n",
       " 1.7498935,\n",
       " 2.855538,\n",
       " 3.0202787,\n",
       " 1.7555718,\n",
       " 1.7691231,\n",
       " 1.7574469,\n",
       " 3.5837297,\n",
       " 5.186017,\n",
       " 2.0576103,\n",
       " 2.5024016,\n",
       " 2.431103,\n",
       " 2.1969242,\n",
       " 2.3214366,\n",
       " 3.2901213,\n",
       " 2.0132976,\n",
       " 2.9995873,\n",
       " 2.6647747,\n",
       " 1.7765268,\n",
       " 2.829016,\n",
       " 4.838604,\n",
       " 1.809248,\n",
       " 2.589729,\n",
       " 2.0808408,\n",
       " 3.8091812,\n",
       " 3.977845,\n",
       " 2.092372,\n",
       " 1.7536902,\n",
       " 3.8129046,\n",
       " 2.2405956,\n",
       " 4.7657733,\n",
       " 1.9728752,\n",
       " 2.299878,\n",
       " 4.590916,\n",
       " 3.5829628,\n",
       " 1.7582185,\n",
       " 4.5355525,\n",
       " 1.7570059]"
      ]
     },
     "execution_count": 59,
     "metadata": {},
     "output_type": "execute_result"
    }
   ],
   "source": [
    "#state 4 \n",
    "state4RUL = findRULValuesByState(valPredict2, valTime_4step_TAD, val_data, 4, 4)\n",
    "state4RUL"
   ]
  },
  {
   "cell_type": "code",
   "execution_count": 60,
   "metadata": {},
   "outputs": [
    {
     "name": "stdout",
     "output_type": "stream",
     "text": [
      "Min value is 1.749894. Mean value is 2.849575. Max Value is 6.289236\n"
     ]
    }
   ],
   "source": [
    "#state 4\n",
    "findMinMaxMean(state4RUL)"
   ]
  },
  {
   "cell_type": "code",
   "execution_count": 61,
   "metadata": {},
   "outputs": [
    {
     "data": {
      "text/plain": [
       "{'whiskers': [<matplotlib.lines.Line2D at 0x2267d4109a0>,\n",
       "  <matplotlib.lines.Line2D at 0x2267d410ac0>],\n",
       " 'caps': [<matplotlib.lines.Line2D at 0x2265b675520>,\n",
       "  <matplotlib.lines.Line2D at 0x2267d63dee0>],\n",
       " 'boxes': [<matplotlib.lines.Line2D at 0x2267d410460>],\n",
       " 'medians': [<matplotlib.lines.Line2D at 0x2267d63df70>],\n",
       " 'fliers': [<matplotlib.lines.Line2D at 0x2267d63daf0>],\n",
       " 'means': []}"
      ]
     },
     "execution_count": 61,
     "metadata": {},
     "output_type": "execute_result"
    },
    {
     "data": {
      "image/png": "[encoded data removed]",
      "text/plain": [
       "<Figure size 432x288 with 1 Axes>"
      ]
     },
     "metadata": {
      "needs_background": "light"
     },
     "output_type": "display_data"
    }
   ],
   "source": [
    "#plot boxplot\n",
    "plt.boxplot(state4RUL)"
   ]
  },
  {
   "cell_type": "markdown",
   "metadata": {},
   "source": [
    "State 5"
   ]
  },
  {
   "cell_type": "code",
   "execution_count": 62,
   "metadata": {},
   "outputs": [
    {
     "data": {
      "text/plain": [
       "[2.7591908, 5.97952, 3.1755726, 3.5424733, 4.3624964]"
      ]
     },
     "execution_count": 62,
     "metadata": {},
     "output_type": "execute_result"
    }
   ],
   "source": [
    "#state 5 \n",
    "state5RUL = findRULValuesByState(valPredict2, valTime_4step_TAD, val_data, 5, 4)\n",
    "state5RUL"
   ]
  },
  {
   "cell_type": "code",
   "execution_count": 63,
   "metadata": {},
   "outputs": [
    {
     "name": "stdout",
     "output_type": "stream",
     "text": [
      "Min value is 2.759191. Mean value is 3.963850. Max Value is 5.979520\n"
     ]
    }
   ],
   "source": [
    "#state 5\n",
    "findMinMaxMean(state5RUL)"
   ]
  },
  {
   "cell_type": "code",
   "execution_count": 64,
   "metadata": {},
   "outputs": [
    {
     "data": {
      "text/plain": [
       "{'whiskers': [<matplotlib.lines.Line2D at 0x2267ff3d460>,\n",
       "  <matplotlib.lines.Line2D at 0x2267ff3d640>],\n",
       " 'caps': [<matplotlib.lines.Line2D at 0x2267ff3d9a0>,\n",
       "  <matplotlib.lines.Line2D at 0x2267d638c70>],\n",
       " 'boxes': [<matplotlib.lines.Line2D at 0x2267ff3dd60>],\n",
       " 'medians': [<matplotlib.lines.Line2D at 0x2267d638fa0>],\n",
       " 'fliers': [<matplotlib.lines.Line2D at 0x2267feb4dc0>],\n",
       " 'means': []}"
      ]
     },
     "execution_count": 64,
     "metadata": {},
     "output_type": "execute_result"
    },
    {
     "data": {
      "image/png": "[encoded data removed]",
      "text/plain": [
       "<Figure size 432x288 with 1 Axes>"
      ]
     },
     "metadata": {
      "needs_background": "light"
     },
     "output_type": "display_data"
    }
   ],
   "source": [
    "#plot boxplot\n",
    "plt.boxplot(state5RUL)"
   ]
  },
  {
   "cell_type": "markdown",
   "metadata": {},
   "source": [
    "Original RUL Threshold may be too high"
   ]
  },
  {
   "cell_type": "code",
   "execution_count": 65,
   "metadata": {},
   "outputs": [],
   "source": [
    "def findPercentageBelowValue(values, threshold):\n",
    "    totalCount = len(values)\n",
    "    desiredCount = 0\n",
    "    for x in values:\n",
    "        if x <= threshold:\n",
    "            desiredCount += 1\n",
    "    return desiredCount/totalCount"
   ]
  },
  {
   "cell_type": "markdown",
   "metadata": {},
   "source": [
    "Current RUL threshold is more than state 1"
   ]
  },
  {
   "cell_type": "code",
   "execution_count": 66,
   "metadata": {},
   "outputs": [
    {
     "data": {
      "text/plain": [
       "0.7700787401574803"
      ]
     },
     "execution_count": 66,
     "metadata": {},
     "output_type": "execute_result"
    }
   ],
   "source": [
    "#state 1\n",
    "findPercentageBelowValue(valPredict2, 5.645136)"
   ]
  },
  {
   "cell_type": "code",
   "execution_count": 67,
   "metadata": {},
   "outputs": [
    {
     "data": {
      "text/plain": [
       "0.5574803149606299"
      ]
     },
     "execution_count": 67,
     "metadata": {},
     "output_type": "execute_result"
    }
   ],
   "source": [
    "#state 2\n",
    "findPercentageBelowValue(valPredict2, 4.529821)"
   ]
  },
  {
   "cell_type": "code",
   "execution_count": 68,
   "metadata": {},
   "outputs": [
    {
     "data": {
      "text/plain": [
       "0.32755905511811023"
      ]
     },
     "execution_count": 68,
     "metadata": {},
     "output_type": "execute_result"
    }
   ],
   "source": [
    "#state 3\n",
    "findPercentageBelowValue(valPredict2, 3.488425)"
   ]
  },
  {
   "cell_type": "markdown",
   "metadata": {},
   "source": [
    "Set at state 1 threshold"
   ]
  },
  {
   "cell_type": "code",
   "execution_count": null,
   "metadata": {},
   "outputs": [],
   "source": []
  }
 ],
 "metadata": {
  "kernelspec": {
   "display_name": "Python 3",
   "language": "python",
   "name": "python3"
  },
  "language_info": {
   "codemirror_mode": {
    "name": "ipython",
    "version": 3
   },
   "file_extension": ".py",
   "mimetype": "text/x-python",
   "name": "python",
   "nbconvert_exporter": "python",
   "pygments_lexer": "ipython3",
   "version": "3.8.3"
  }
 },
 "nbformat": 4,
 "nbformat_minor": 4
}
