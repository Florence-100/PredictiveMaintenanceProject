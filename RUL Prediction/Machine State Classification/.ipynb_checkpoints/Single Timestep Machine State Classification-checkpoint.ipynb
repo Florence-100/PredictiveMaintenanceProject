{
 "cells": [
  {
   "cell_type": "code",
   "execution_count": 1,
   "metadata": {},
   "outputs": [],
   "source": [
    "import pandas as pd\n",
    "import numpy as np \n",
    "import matplotlib.pyplot as plt\n",
    "import seaborn as sns\n",
    "from datetime import timedelta \n",
    "from sklearn.preprocessing import StandardScaler\n",
    "from sklearn.metrics import accuracy_score"
   ]
  },
  {
   "cell_type": "code",
   "execution_count": 2,
   "metadata": {},
   "outputs": [],
   "source": [
    "dataset = pd.read_csv(\"GMM_values.csv\", header=0)"
   ]
  },
  {
   "cell_type": "code",
   "execution_count": 3,
   "metadata": {},
   "outputs": [],
   "source": [
    "#get failure times \n",
    "failurePoints = []\n",
    "for index, row in dataset.iterrows():\n",
    "    current_state = row['State']\n",
    "    if current_state > 3:\n",
    "        failurePoints.append(row['Timestep'])"
   ]
  },
  {
   "cell_type": "code",
   "execution_count": 4,
   "metadata": {},
   "outputs": [],
   "source": [
    "def getRUL(current, failurelst):\n",
    "    nextFailure = None\n",
    "    for f in failurelst:\n",
    "        if f - current >= 0: \n",
    "            nextFailure = f\n",
    "            break \n",
    "    if nextFailure != None:\n",
    "        diff = nextFailure - current \n",
    "        return diff\n",
    "    else: \n",
    "        return None"
   ]
  },
  {
   "cell_type": "code",
   "execution_count": 5,
   "metadata": {},
   "outputs": [],
   "source": [
    "#investigate general trend of RUL values \n",
    "total_rul = []\n",
    "timeX = dataset['Timestep'].tolist()\n",
    "for instance in timeX:\n",
    "    current_rul = getRUL(instance, failurePoints)\n",
    "    total_rul.append(current_rul)"
   ]
  },
  {
   "cell_type": "code",
   "execution_count": 6,
   "metadata": {},
   "outputs": [
    {
     "data": {
      "text/html": [
       "<div>\n",
       "<style scoped>\n",
       "    .dataframe tbody tr th:only-of-type {\n",
       "        vertical-align: middle;\n",
       "    }\n",
       "\n",
       "    .dataframe tbody tr th {\n",
       "        vertical-align: top;\n",
       "    }\n",
       "\n",
       "    .dataframe thead th {\n",
       "        text-align: right;\n",
       "    }\n",
       "</style>\n",
       "<table border=\"1\" class=\"dataframe\">\n",
       "  <thead>\n",
       "    <tr style=\"text-align: right;\">\n",
       "      <th></th>\n",
       "      <th>Timestep</th>\n",
       "      <th>Volt</th>\n",
       "      <th>Rotate</th>\n",
       "      <th>Pressure</th>\n",
       "      <th>Vibration</th>\n",
       "      <th>State</th>\n",
       "      <th>RUL</th>\n",
       "    </tr>\n",
       "  </thead>\n",
       "  <tbody>\n",
       "    <tr>\n",
       "      <th>0</th>\n",
       "      <td>0</td>\n",
       "      <td>0.379151</td>\n",
       "      <td>0.556385</td>\n",
       "      <td>0.243080</td>\n",
       "      <td>0.229504</td>\n",
       "      <td>0</td>\n",
       "      <td>9.0</td>\n",
       "    </tr>\n",
       "    <tr>\n",
       "      <th>1</th>\n",
       "      <td>1</td>\n",
       "      <td>0.415507</td>\n",
       "      <td>0.698561</td>\n",
       "      <td>0.242410</td>\n",
       "      <td>0.273825</td>\n",
       "      <td>1</td>\n",
       "      <td>8.0</td>\n",
       "    </tr>\n",
       "    <tr>\n",
       "      <th>2</th>\n",
       "      <td>2</td>\n",
       "      <td>0.339342</td>\n",
       "      <td>0.637645</td>\n",
       "      <td>0.230266</td>\n",
       "      <td>0.191588</td>\n",
       "      <td>2</td>\n",
       "      <td>7.0</td>\n",
       "    </tr>\n",
       "    <tr>\n",
       "      <th>3</th>\n",
       "      <td>3</td>\n",
       "      <td>0.343817</td>\n",
       "      <td>0.627732</td>\n",
       "      <td>0.233905</td>\n",
       "      <td>0.264566</td>\n",
       "      <td>2</td>\n",
       "      <td>6.0</td>\n",
       "    </tr>\n",
       "    <tr>\n",
       "      <th>4</th>\n",
       "      <td>4</td>\n",
       "      <td>0.310362</td>\n",
       "      <td>0.607368</td>\n",
       "      <td>0.194296</td>\n",
       "      <td>0.240200</td>\n",
       "      <td>2</td>\n",
       "      <td>5.0</td>\n",
       "    </tr>\n",
       "    <tr>\n",
       "      <th>...</th>\n",
       "      <td>...</td>\n",
       "      <td>...</td>\n",
       "      <td>...</td>\n",
       "      <td>...</td>\n",
       "      <td>...</td>\n",
       "      <td>...</td>\n",
       "      <td>...</td>\n",
       "    </tr>\n",
       "    <tr>\n",
       "      <th>7995</th>\n",
       "      <td>7995</td>\n",
       "      <td>0.333491</td>\n",
       "      <td>0.682035</td>\n",
       "      <td>0.220176</td>\n",
       "      <td>0.249060</td>\n",
       "      <td>0</td>\n",
       "      <td>NaN</td>\n",
       "    </tr>\n",
       "    <tr>\n",
       "      <th>7996</th>\n",
       "      <td>7996</td>\n",
       "      <td>0.344994</td>\n",
       "      <td>0.689298</td>\n",
       "      <td>0.225088</td>\n",
       "      <td>0.218040</td>\n",
       "      <td>1</td>\n",
       "      <td>NaN</td>\n",
       "    </tr>\n",
       "    <tr>\n",
       "      <th>7997</th>\n",
       "      <td>7997</td>\n",
       "      <td>0.390017</td>\n",
       "      <td>0.641338</td>\n",
       "      <td>0.211275</td>\n",
       "      <td>0.239294</td>\n",
       "      <td>1</td>\n",
       "      <td>NaN</td>\n",
       "    </tr>\n",
       "    <tr>\n",
       "      <th>7998</th>\n",
       "      <td>7998</td>\n",
       "      <td>0.324577</td>\n",
       "      <td>0.656867</td>\n",
       "      <td>0.205467</td>\n",
       "      <td>0.294698</td>\n",
       "      <td>1</td>\n",
       "      <td>NaN</td>\n",
       "    </tr>\n",
       "    <tr>\n",
       "      <th>7999</th>\n",
       "      <td>7999</td>\n",
       "      <td>0.388020</td>\n",
       "      <td>0.666028</td>\n",
       "      <td>0.281135</td>\n",
       "      <td>0.210243</td>\n",
       "      <td>1</td>\n",
       "      <td>NaN</td>\n",
       "    </tr>\n",
       "  </tbody>\n",
       "</table>\n",
       "<p>8000 rows × 7 columns</p>\n",
       "</div>"
      ],
      "text/plain": [
       "      Timestep      Volt    Rotate  Pressure  Vibration  State  RUL\n",
       "0            0  0.379151  0.556385  0.243080   0.229504      0  9.0\n",
       "1            1  0.415507  0.698561  0.242410   0.273825      1  8.0\n",
       "2            2  0.339342  0.637645  0.230266   0.191588      2  7.0\n",
       "3            3  0.343817  0.627732  0.233905   0.264566      2  6.0\n",
       "4            4  0.310362  0.607368  0.194296   0.240200      2  5.0\n",
       "...        ...       ...       ...       ...        ...    ...  ...\n",
       "7995      7995  0.333491  0.682035  0.220176   0.249060      0  NaN\n",
       "7996      7996  0.344994  0.689298  0.225088   0.218040      1  NaN\n",
       "7997      7997  0.390017  0.641338  0.211275   0.239294      1  NaN\n",
       "7998      7998  0.324577  0.656867  0.205467   0.294698      1  NaN\n",
       "7999      7999  0.388020  0.666028  0.281135   0.210243      1  NaN\n",
       "\n",
       "[8000 rows x 7 columns]"
      ]
     },
     "execution_count": 6,
     "metadata": {},
     "output_type": "execute_result"
    }
   ],
   "source": [
    "#create a new dataframe with RUL \n",
    "all_df = dataset.copy(deep=True)\n",
    "all_df['RUL'] = total_rul\n",
    "all_df"
   ]
  },
  {
   "cell_type": "code",
   "execution_count": 7,
   "metadata": {},
   "outputs": [
    {
     "data": {
      "text/html": [
       "<div>\n",
       "<style scoped>\n",
       "    .dataframe tbody tr th:only-of-type {\n",
       "        vertical-align: middle;\n",
       "    }\n",
       "\n",
       "    .dataframe tbody tr th {\n",
       "        vertical-align: top;\n",
       "    }\n",
       "\n",
       "    .dataframe thead th {\n",
       "        text-align: right;\n",
       "    }\n",
       "</style>\n",
       "<table border=\"1\" class=\"dataframe\">\n",
       "  <thead>\n",
       "    <tr style=\"text-align: right;\">\n",
       "      <th></th>\n",
       "      <th>Timestep</th>\n",
       "      <th>Volt</th>\n",
       "      <th>Rotate</th>\n",
       "      <th>Pressure</th>\n",
       "      <th>Vibration</th>\n",
       "      <th>State</th>\n",
       "      <th>RUL</th>\n",
       "    </tr>\n",
       "  </thead>\n",
       "  <tbody>\n",
       "    <tr>\n",
       "      <th>0</th>\n",
       "      <td>0</td>\n",
       "      <td>0.379151</td>\n",
       "      <td>0.556385</td>\n",
       "      <td>0.243080</td>\n",
       "      <td>0.229504</td>\n",
       "      <td>0</td>\n",
       "      <td>9.0</td>\n",
       "    </tr>\n",
       "    <tr>\n",
       "      <th>1</th>\n",
       "      <td>1</td>\n",
       "      <td>0.415507</td>\n",
       "      <td>0.698561</td>\n",
       "      <td>0.242410</td>\n",
       "      <td>0.273825</td>\n",
       "      <td>1</td>\n",
       "      <td>8.0</td>\n",
       "    </tr>\n",
       "    <tr>\n",
       "      <th>2</th>\n",
       "      <td>2</td>\n",
       "      <td>0.339342</td>\n",
       "      <td>0.637645</td>\n",
       "      <td>0.230266</td>\n",
       "      <td>0.191588</td>\n",
       "      <td>2</td>\n",
       "      <td>7.0</td>\n",
       "    </tr>\n",
       "    <tr>\n",
       "      <th>3</th>\n",
       "      <td>3</td>\n",
       "      <td>0.343817</td>\n",
       "      <td>0.627732</td>\n",
       "      <td>0.233905</td>\n",
       "      <td>0.264566</td>\n",
       "      <td>2</td>\n",
       "      <td>6.0</td>\n",
       "    </tr>\n",
       "    <tr>\n",
       "      <th>4</th>\n",
       "      <td>4</td>\n",
       "      <td>0.310362</td>\n",
       "      <td>0.607368</td>\n",
       "      <td>0.194296</td>\n",
       "      <td>0.240200</td>\n",
       "      <td>2</td>\n",
       "      <td>5.0</td>\n",
       "    </tr>\n",
       "    <tr>\n",
       "      <th>...</th>\n",
       "      <td>...</td>\n",
       "      <td>...</td>\n",
       "      <td>...</td>\n",
       "      <td>...</td>\n",
       "      <td>...</td>\n",
       "      <td>...</td>\n",
       "      <td>...</td>\n",
       "    </tr>\n",
       "    <tr>\n",
       "      <th>7987</th>\n",
       "      <td>7987</td>\n",
       "      <td>0.325059</td>\n",
       "      <td>0.616790</td>\n",
       "      <td>0.235959</td>\n",
       "      <td>0.192175</td>\n",
       "      <td>2</td>\n",
       "      <td>4.0</td>\n",
       "    </tr>\n",
       "    <tr>\n",
       "      <th>7988</th>\n",
       "      <td>7988</td>\n",
       "      <td>0.388779</td>\n",
       "      <td>0.670864</td>\n",
       "      <td>0.243099</td>\n",
       "      <td>0.248306</td>\n",
       "      <td>2</td>\n",
       "      <td>3.0</td>\n",
       "    </tr>\n",
       "    <tr>\n",
       "      <th>7989</th>\n",
       "      <td>7989</td>\n",
       "      <td>0.339885</td>\n",
       "      <td>0.607819</td>\n",
       "      <td>0.237883</td>\n",
       "      <td>0.232814</td>\n",
       "      <td>3</td>\n",
       "      <td>2.0</td>\n",
       "    </tr>\n",
       "    <tr>\n",
       "      <th>7990</th>\n",
       "      <td>7990</td>\n",
       "      <td>0.525533</td>\n",
       "      <td>0.611479</td>\n",
       "      <td>0.414174</td>\n",
       "      <td>0.214225</td>\n",
       "      <td>3</td>\n",
       "      <td>1.0</td>\n",
       "    </tr>\n",
       "    <tr>\n",
       "      <th>7991</th>\n",
       "      <td>7991</td>\n",
       "      <td>0.441301</td>\n",
       "      <td>0.296198</td>\n",
       "      <td>0.190694</td>\n",
       "      <td>0.236868</td>\n",
       "      <td>4</td>\n",
       "      <td>0.0</td>\n",
       "    </tr>\n",
       "  </tbody>\n",
       "</table>\n",
       "<p>7992 rows × 7 columns</p>\n",
       "</div>"
      ],
      "text/plain": [
       "      Timestep      Volt    Rotate  Pressure  Vibration  State  RUL\n",
       "0            0  0.379151  0.556385  0.243080   0.229504      0  9.0\n",
       "1            1  0.415507  0.698561  0.242410   0.273825      1  8.0\n",
       "2            2  0.339342  0.637645  0.230266   0.191588      2  7.0\n",
       "3            3  0.343817  0.627732  0.233905   0.264566      2  6.0\n",
       "4            4  0.310362  0.607368  0.194296   0.240200      2  5.0\n",
       "...        ...       ...       ...       ...        ...    ...  ...\n",
       "7987      7987  0.325059  0.616790  0.235959   0.192175      2  4.0\n",
       "7988      7988  0.388779  0.670864  0.243099   0.248306      2  3.0\n",
       "7989      7989  0.339885  0.607819  0.237883   0.232814      3  2.0\n",
       "7990      7990  0.525533  0.611479  0.414174   0.214225      3  1.0\n",
       "7991      7991  0.441301  0.296198  0.190694   0.236868      4  0.0\n",
       "\n",
       "[7992 rows x 7 columns]"
      ]
     },
     "execution_count": 7,
     "metadata": {},
     "output_type": "execute_result"
    }
   ],
   "source": [
    "#drop na columns \n",
    "all_df = all_df.dropna()\n",
    "all_df"
   ]
  },
  {
   "cell_type": "code",
   "execution_count": 8,
   "metadata": {},
   "outputs": [],
   "source": [
    "#split data into episodes\n",
    "data_split = []\n",
    "chunkBySize = []\n",
    "for index, row in all_df.iterrows():\n",
    "    currentRUL = row['RUL']\n",
    "    arr = [row['Timestep'], row['Volt'], row['Rotate'], row['Pressure'], row['Vibration'], row['RUL'], row['State']]\n",
    "    if currentRUL < 1:  \n",
    "        chunkBySize.append(arr)\n",
    "        if (chunkBySize):\n",
    "            data_split.append(chunkBySize)\n",
    "        chunkBySize = []\n",
    "    else:\n",
    "        chunkBySize.append(arr)"
   ]
  },
  {
   "cell_type": "code",
   "execution_count": 9,
   "metadata": {},
   "outputs": [],
   "source": [
    "#split in training, validation and test sets\n",
    "\n",
    "num_episodes = len(data_split)\n",
    "num_train = int(0.75*num_episodes)\n",
    "num_val = int(0.125*num_episodes)\n",
    "\n",
    "train_data = data_split[:num_train]\n",
    "val_data = data_split[num_train:num_train+num_val]\n",
    "test_data = data_split[num_train+num_val:]"
   ]
  },
  {
   "cell_type": "code",
   "execution_count": 10,
   "metadata": {},
   "outputs": [],
   "source": [
    "#set random seed \n",
    "import tensorflow as tf\n",
    "tf.random.set_seed(42)"
   ]
  },
  {
   "cell_type": "code",
   "execution_count": 11,
   "metadata": {},
   "outputs": [
    {
     "data": {
      "text/plain": [
       "[[0.0, 0.379151092, 0.556385187, 0.243079506, 0.229504293, 9.0, 0.0],\n",
       " [1.0, 0.415506993, 0.698561103, 0.242410288, 0.273824561, 8.0, 1.0],\n",
       " [2.0, 0.33934205, 0.637644818, 0.230266358, 0.191588098, 7.0, 2.0],\n",
       " [3.0, 0.343817356, 0.627731997, 0.233904513, 0.264566349, 6.0, 2.0],\n",
       " [4.0, 0.310361557, 0.607368113, 0.194295643, 0.240200195, 5.0, 2.0],\n",
       " [5.0, 0.336327636, 0.531479142, 0.215693485, 0.215780325, 4.0, 2.0],\n",
       " [6.0, 0.397831149, 0.57521239, 0.190585546, 0.230599092, 3.0, 2.0],\n",
       " [7.0, 0.385974096, 0.630933953, 0.208516333, 0.247693397, 2.0, 2.0],\n",
       " [8.0, 0.376943194, 0.396047283, 0.215659658, 0.256992779, 1.0, 3.0],\n",
       " [9.0, 0.56498231, 0.648197926, 0.516587151, 0.256162471, 0.0, 4.0]]"
      ]
     },
     "execution_count": 11,
     "metadata": {},
     "output_type": "execute_result"
    }
   ],
   "source": [
    "train_data[0]"
   ]
  },
  {
   "cell_type": "markdown",
   "metadata": {},
   "source": [
    "### Using PyCaret for Module Selection"
   ]
  },
  {
   "cell_type": "code",
   "execution_count": 12,
   "metadata": {},
   "outputs": [],
   "source": [
    "#format data into 2D array \n",
    "def to2DSensorReadingArray(data):\n",
    "    sensorReadingData = []\n",
    "    for episode in data:\n",
    "        for instance in episode:\n",
    "            arr = [instance[1], instance[2], instance[3], instance[4], instance[6]]\n",
    "            sensorReadingData.append(arr)\n",
    "    sensorReadingData_arr = np.array(sensorReadingData)\n",
    "    return sensorReadingData_arr"
   ]
  },
  {
   "cell_type": "code",
   "execution_count": 13,
   "metadata": {},
   "outputs": [],
   "source": [
    "#format data to numpy array\n",
    "train_data_formatted = to2DSensorReadingArray(train_data)\n",
    "val_data_formatted = to2DSensorReadingArray(val_data)\n",
    "test_data_formatted = to2DSensorReadingArray(test_data)"
   ]
  },
  {
   "cell_type": "code",
   "execution_count": 14,
   "metadata": {},
   "outputs": [],
   "source": [
    "#convert numpy array to pandas dataframe\n",
    "columnNames = ['Volt', 'Rotate', 'Pressure', 'Vibration', 'State']\n",
    "train_dataset = pd.DataFrame(data=train_data_formatted, columns=columnNames)\n",
    "val_dataset = pd.DataFrame(data=val_data_formatted, columns=columnNames)\n",
    "test_dataset = pd.DataFrame(data=test_data_formatted, columns=columnNames)"
   ]
  },
  {
   "cell_type": "code",
   "execution_count": 15,
   "metadata": {},
   "outputs": [
    {
     "data": {
      "application/vnd.jupyter.widget-view+json": {
       "model_id": "dc7c5cb1e95243ba8d2a39e28b2a0543",
       "version_major": 2,
       "version_minor": 0
      },
      "text/plain": [
       "Text(value=\"Following data types have been inferred automatically, if they are correct press enter to continue…"
      ]
     },
     "metadata": {},
     "output_type": "display_data"
    },
    {
     "data": {
      "text/html": [
       "<div>\n",
       "<style scoped>\n",
       "    .dataframe tbody tr th:only-of-type {\n",
       "        vertical-align: middle;\n",
       "    }\n",
       "\n",
       "    .dataframe tbody tr th {\n",
       "        vertical-align: top;\n",
       "    }\n",
       "\n",
       "    .dataframe thead th {\n",
       "        text-align: right;\n",
       "    }\n",
       "</style>\n",
       "<table border=\"1\" class=\"dataframe\">\n",
       "  <thead>\n",
       "    <tr style=\"text-align: right;\">\n",
       "      <th></th>\n",
       "      <th>Data Type</th>\n",
       "    </tr>\n",
       "  </thead>\n",
       "  <tbody>\n",
       "    <tr>\n",
       "      <th>Volt</th>\n",
       "      <td>Numeric</td>\n",
       "    </tr>\n",
       "    <tr>\n",
       "      <th>Rotate</th>\n",
       "      <td>Numeric</td>\n",
       "    </tr>\n",
       "    <tr>\n",
       "      <th>Pressure</th>\n",
       "      <td>Numeric</td>\n",
       "    </tr>\n",
       "    <tr>\n",
       "      <th>Vibration</th>\n",
       "      <td>Numeric</td>\n",
       "    </tr>\n",
       "    <tr>\n",
       "      <th>State</th>\n",
       "      <td>Label</td>\n",
       "    </tr>\n",
       "  </tbody>\n",
       "</table>\n",
       "</div>"
      ],
      "text/plain": [
       "          Data Type\n",
       "Volt        Numeric\n",
       "Rotate      Numeric\n",
       "Pressure    Numeric\n",
       "Vibration   Numeric\n",
       "State         Label"
      ]
     },
     "metadata": {},
     "output_type": "display_data"
    },
    {
     "name": "stdout",
     "output_type": "stream",
     "text": [
      "\n",
      "Setup Succesfully Completed!\n",
      "              Description             Value\n",
      "0              session_id                42\n",
      "1                  Target             State\n",
      "2             Target Type        Multiclass\n",
      "3           Label Encoded              None\n",
      "4           Original Data         (6010, 5)\n",
      "5          Missing Values             False\n",
      "6        Numeric Features                 4\n",
      "7    Categorical Features                 0\n",
      "8   Transformed Train Set         (4808, 4)\n",
      "9    Transformed Test Set         (1202, 4)\n",
      "10     Shuffle Train-Test              True\n",
      "11    Stratify Train-Test             False\n",
      "12         Fold Generator   StratifiedKFold\n",
      "13            Fold Number                10\n",
      "14               CPU Jobs                -1\n",
      "15                Use GPU             False\n",
      "16         Log Experiment             False\n",
      "17        Experiment Name  clf-default-name\n",
      "18                    USI              de4a\n",
      "19          Fix Imbalance             False\n",
      "20   Fix Imbalance Method             SMOTE\n",
      "                                    Model  Accuracy     AUC  Recall   Prec.  \\\n",
      "gbc          Gradient Boosting Classifier    0.3556  0.6925  0.3359  0.3523   \n",
      "lda          Linear Discriminant Analysis    0.3484  0.6695  0.3176  0.3376   \n",
      "catboost              CatBoost Classifier    0.3471  0.6827  0.3104  0.3425   \n",
      "lightgbm  Light Gradient Boosting Machine    0.3436  0.6773  0.3134  0.3408   \n",
      "lr                    Logistic Regression    0.3425  0.6808  0.2676  0.3314   \n",
      "rf               Random Forest Classifier    0.3415  0.6767  0.3161  0.3385   \n",
      "et                 Extra Trees Classifier    0.3413  0.6746  0.3281  0.3396   \n",
      "knn                K Neighbors Classifier    0.3392  0.6422  0.3055  0.3376   \n",
      "ridge                    Ridge Classifier    0.3388  0.0000  0.2672  0.3180   \n",
      "qda       Quadratic Discriminant Analysis    0.3311  0.6794  0.3104  0.3500   \n",
      "nb                            Naive Bayes    0.3280  0.6764  0.2748  0.3435   \n",
      "xgboost         Extreme Gradient Boosting    0.3276  0.6688  0.3098  0.3244   \n",
      "svm                   SVM - Linear Kernel    0.3101  0.0000  0.2788  0.2898   \n",
      "ada                  Ada Boost Classifier    0.3043  0.6295  0.2898  0.3145   \n",
      "dt               Decision Tree Classifier    0.2960  0.5496  0.2853  0.2957   \n",
      "\n",
      "              F1   Kappa     MCC  TT (Sec)  \n",
      "gbc       0.3523  0.1813  0.1816     1.162  \n",
      "lda       0.3339  0.1702  0.1728     0.007  \n",
      "catboost  0.3441  0.1676  0.1678    10.751  \n",
      "lightgbm  0.3408  0.1631  0.1633     0.409  \n",
      "lr        0.3072  0.1516  0.1585     0.861  \n",
      "rf        0.3381  0.1621  0.1623     0.296  \n",
      "et        0.3388  0.1617  0.1619     0.207  \n",
      "knn       0.3347  0.1571  0.1580     0.024  \n",
      "ridge     0.2941  0.1476  0.1567     0.006  \n",
      "qda       0.3043  0.1499  0.1613     0.009  \n",
      "nb        0.3053  0.1389  0.1494     0.008  \n",
      "xgboost   0.3250  0.1437  0.1439     2.085  \n",
      "svm       0.2407  0.1215  0.1471     0.021  \n",
      "ada       0.2757  0.1119  0.1191     0.081  \n",
      "dt        0.2951  0.1037  0.1038     0.015  \n",
      "GradientBoostingClassifier(ccp_alpha=0.0, criterion='friedman_mse', init=None,\n",
      "                           learning_rate=0.1, loss='deviance', max_depth=3,\n",
      "                           max_features=None, max_leaf_nodes=None,\n",
      "                           min_impurity_decrease=0.0, min_impurity_split=None,\n",
      "                           min_samples_leaf=1, min_samples_split=2,\n",
      "                           min_weight_fraction_leaf=0.0, n_estimators=100,\n",
      "                           n_iter_no_change=None, random_state=42,\n",
      "                           subsample=1.0, tol=0.0001, validation_fraction=0.1,\n",
      "                           verbose=0, warm_start=False)\n"
     ]
    }
   ],
   "source": [
    "import pycaret\n",
    "from pycaret.classification import *\n",
    "from pycaret.classification import setup\n",
    "from pycaret.classification import compare_models\n",
    "\n",
    "#setup the dataset\n",
    "grid = setup(data=train_dataset, target='State', train_size=0.8, preprocess=False, html=False, fold_shuffle=True, session_id=42, imputation_type='iterative')\n",
    "\n",
    "# evaluate models and compare models\n",
    "best = compare_models()\n",
    "# report the best model\n",
    "print(best)"
   ]
  },
  {
   "cell_type": "code",
   "execution_count": 17,
   "metadata": {},
   "outputs": [
    {
     "data": {
      "application/vnd.jupyter.widget-view+json": {
       "model_id": "6beff97395ee49cea699f1ddc3bfbbd5",
       "version_major": 2,
       "version_minor": 0
      },
      "text/plain": [
       "Text(value=\"Following data types have been inferred automatically, if they are correct press enter to continue…"
      ]
     },
     "metadata": {},
     "output_type": "display_data"
    },
    {
     "data": {
      "text/html": [
       "<div>\n",
       "<style scoped>\n",
       "    .dataframe tbody tr th:only-of-type {\n",
       "        vertical-align: middle;\n",
       "    }\n",
       "\n",
       "    .dataframe tbody tr th {\n",
       "        vertical-align: top;\n",
       "    }\n",
       "\n",
       "    .dataframe thead th {\n",
       "        text-align: right;\n",
       "    }\n",
       "</style>\n",
       "<table border=\"1\" class=\"dataframe\">\n",
       "  <thead>\n",
       "    <tr style=\"text-align: right;\">\n",
       "      <th></th>\n",
       "      <th>Data Type</th>\n",
       "    </tr>\n",
       "  </thead>\n",
       "  <tbody>\n",
       "    <tr>\n",
       "      <th>Volt</th>\n",
       "      <td>Numeric</td>\n",
       "    </tr>\n",
       "    <tr>\n",
       "      <th>Rotate</th>\n",
       "      <td>Numeric</td>\n",
       "    </tr>\n",
       "    <tr>\n",
       "      <th>Pressure</th>\n",
       "      <td>Numeric</td>\n",
       "    </tr>\n",
       "    <tr>\n",
       "      <th>Vibration</th>\n",
       "      <td>Numeric</td>\n",
       "    </tr>\n",
       "    <tr>\n",
       "      <th>State</th>\n",
       "      <td>Label</td>\n",
       "    </tr>\n",
       "  </tbody>\n",
       "</table>\n",
       "</div>"
      ],
      "text/plain": [
       "          Data Type\n",
       "Volt        Numeric\n",
       "Rotate      Numeric\n",
       "Pressure    Numeric\n",
       "Vibration   Numeric\n",
       "State         Label"
      ]
     },
     "metadata": {},
     "output_type": "display_data"
    },
    {
     "name": "stdout",
     "output_type": "stream",
     "text": [
      "\n",
      "Setup Succesfully Completed!\n",
      "              Description             Value\n",
      "0              session_id                42\n",
      "1                  Target             State\n",
      "2             Target Type        Multiclass\n",
      "3           Label Encoded              None\n",
      "4           Original Data         (6010, 5)\n",
      "5          Missing Values             False\n",
      "6        Numeric Features                 4\n",
      "7    Categorical Features                 0\n",
      "8   Transformed Train Set         (4808, 4)\n",
      "9    Transformed Test Set         (1202, 4)\n",
      "10     Shuffle Train-Test              True\n",
      "11    Stratify Train-Test             False\n",
      "12         Fold Generator   StratifiedKFold\n",
      "13            Fold Number                10\n",
      "14               CPU Jobs                -1\n",
      "15                Use GPU             False\n",
      "16         Log Experiment             False\n",
      "17        Experiment Name  clf-default-name\n",
      "18                    USI              6a2a\n",
      "19          Fix Imbalance             False\n",
      "20   Fix Imbalance Method             SMOTE\n",
      "Fitting 10 folds for each of 30 candidates, totalling 300 fits\n",
      "      Accuracy     AUC  Recall   Prec.      F1   Kappa     MCC\n",
      "0       0.3825  0.7105  0.3436  0.3833  0.3801  0.2117  0.2127\n",
      "1       0.3825  0.7045  0.3392  0.3802  0.3800  0.2112  0.2118\n",
      "2       0.3389  0.7012  0.2944  0.3347  0.3357  0.1548  0.1551\n",
      "3       0.3597  0.6947  0.3128  0.3562  0.3562  0.1810  0.1816\n",
      "4       0.3638  0.7039  0.3276  0.3568  0.3588  0.1891  0.1895\n",
      "5       0.3784  0.7207  0.3382  0.3811  0.3776  0.2067  0.2076\n",
      "6       0.3888  0.7060  0.3458  0.3894  0.3876  0.2199  0.2204\n",
      "7       0.3805  0.6986  0.3363  0.3759  0.3758  0.2096  0.2104\n",
      "8       0.3625  0.7010  0.3263  0.3647  0.3587  0.1872  0.1891\n",
      "9       0.3375  0.6785  0.2973  0.3298  0.3303  0.1546  0.1555\n",
      "Mean    0.3675  0.7020  0.3261  0.3652  0.3641  0.1926  0.1934\n",
      "SD      0.0173  0.0103  0.0177  0.0196  0.0186  0.0224  0.0224\n"
     ]
    }
   ],
   "source": [
    "#tune model\n",
    "from sklearn.ensemble import GradientBoostingClassifier\n",
    "\n",
    "# setup the dataset\n",
    "grid = setup(data=train_dataset, target='State', train_size=0.8, preprocess=False, html=False, fold_shuffle=True, session_id=42, imputation_type='iterative')\n",
    "\n",
    "# tune model hyperparameters\n",
    "best_tune = tune_model(GradientBoostingClassifier(), n_iter=30)"
   ]
  },
  {
   "cell_type": "code",
   "execution_count": 18,
   "metadata": {},
   "outputs": [
    {
     "name": "stdout",
     "output_type": "stream",
     "text": [
      "GradientBoostingClassifier(ccp_alpha=0.0, criterion='friedman_mse', init=None,\n",
      "                           learning_rate=0.082, loss='deviance', max_depth=1,\n",
      "                           max_features=1.0, max_leaf_nodes=None,\n",
      "                           min_impurity_decrease=0.1, min_impurity_split=None,\n",
      "                           min_samples_leaf=1, min_samples_split=7,\n",
      "                           min_weight_fraction_leaf=0.0, n_estimators=160,\n",
      "                           n_iter_no_change=None, random_state=None,\n",
      "                           subsample=0.7, tol=0.0001, validation_fraction=0.1,\n",
      "                           verbose=0, warm_start=False)\n"
     ]
    }
   ],
   "source": [
    "print(best_tune)"
   ]
  },
  {
   "cell_type": "code",
   "execution_count": 19,
   "metadata": {},
   "outputs": [
    {
     "data": {
      "text/html": [
       "<div>\n",
       "<style scoped>\n",
       "    .dataframe tbody tr th:only-of-type {\n",
       "        vertical-align: middle;\n",
       "    }\n",
       "\n",
       "    .dataframe tbody tr th {\n",
       "        vertical-align: top;\n",
       "    }\n",
       "\n",
       "    .dataframe thead th {\n",
       "        text-align: right;\n",
       "    }\n",
       "</style>\n",
       "<table border=\"1\" class=\"dataframe\">\n",
       "  <thead>\n",
       "    <tr style=\"text-align: right;\">\n",
       "      <th></th>\n",
       "      <th>Volt</th>\n",
       "      <th>Rotate</th>\n",
       "      <th>Pressure</th>\n",
       "      <th>Vibration</th>\n",
       "      <th>State</th>\n",
       "    </tr>\n",
       "  </thead>\n",
       "  <tbody>\n",
       "    <tr>\n",
       "      <th>0</th>\n",
       "      <td>0.379151</td>\n",
       "      <td>0.556385</td>\n",
       "      <td>0.243080</td>\n",
       "      <td>0.229504</td>\n",
       "      <td>0.0</td>\n",
       "    </tr>\n",
       "    <tr>\n",
       "      <th>1</th>\n",
       "      <td>0.415507</td>\n",
       "      <td>0.698561</td>\n",
       "      <td>0.242410</td>\n",
       "      <td>0.273825</td>\n",
       "      <td>1.0</td>\n",
       "    </tr>\n",
       "    <tr>\n",
       "      <th>2</th>\n",
       "      <td>0.339342</td>\n",
       "      <td>0.637645</td>\n",
       "      <td>0.230266</td>\n",
       "      <td>0.191588</td>\n",
       "      <td>2.0</td>\n",
       "    </tr>\n",
       "    <tr>\n",
       "      <th>3</th>\n",
       "      <td>0.343817</td>\n",
       "      <td>0.627732</td>\n",
       "      <td>0.233905</td>\n",
       "      <td>0.264566</td>\n",
       "      <td>2.0</td>\n",
       "    </tr>\n",
       "    <tr>\n",
       "      <th>4</th>\n",
       "      <td>0.310362</td>\n",
       "      <td>0.607368</td>\n",
       "      <td>0.194296</td>\n",
       "      <td>0.240200</td>\n",
       "      <td>2.0</td>\n",
       "    </tr>\n",
       "    <tr>\n",
       "      <th>...</th>\n",
       "      <td>...</td>\n",
       "      <td>...</td>\n",
       "      <td>...</td>\n",
       "      <td>...</td>\n",
       "      <td>...</td>\n",
       "    </tr>\n",
       "    <tr>\n",
       "      <th>6005</th>\n",
       "      <td>0.385721</td>\n",
       "      <td>0.667068</td>\n",
       "      <td>0.217464</td>\n",
       "      <td>0.264458</td>\n",
       "      <td>2.0</td>\n",
       "    </tr>\n",
       "    <tr>\n",
       "      <th>6006</th>\n",
       "      <td>0.352979</td>\n",
       "      <td>0.621213</td>\n",
       "      <td>0.183361</td>\n",
       "      <td>0.212823</td>\n",
       "      <td>3.0</td>\n",
       "    </tr>\n",
       "    <tr>\n",
       "      <th>6007</th>\n",
       "      <td>0.615318</td>\n",
       "      <td>0.661905</td>\n",
       "      <td>0.234438</td>\n",
       "      <td>0.220858</td>\n",
       "      <td>3.0</td>\n",
       "    </tr>\n",
       "    <tr>\n",
       "      <th>6008</th>\n",
       "      <td>0.371735</td>\n",
       "      <td>0.425609</td>\n",
       "      <td>0.223836</td>\n",
       "      <td>0.251973</td>\n",
       "      <td>3.0</td>\n",
       "    </tr>\n",
       "    <tr>\n",
       "      <th>6009</th>\n",
       "      <td>0.363421</td>\n",
       "      <td>0.618110</td>\n",
       "      <td>0.243952</td>\n",
       "      <td>0.589882</td>\n",
       "      <td>4.0</td>\n",
       "    </tr>\n",
       "  </tbody>\n",
       "</table>\n",
       "<p>6010 rows × 5 columns</p>\n",
       "</div>"
      ],
      "text/plain": [
       "          Volt    Rotate  Pressure  Vibration  State\n",
       "0     0.379151  0.556385  0.243080   0.229504    0.0\n",
       "1     0.415507  0.698561  0.242410   0.273825    1.0\n",
       "2     0.339342  0.637645  0.230266   0.191588    2.0\n",
       "3     0.343817  0.627732  0.233905   0.264566    2.0\n",
       "4     0.310362  0.607368  0.194296   0.240200    2.0\n",
       "...        ...       ...       ...        ...    ...\n",
       "6005  0.385721  0.667068  0.217464   0.264458    2.0\n",
       "6006  0.352979  0.621213  0.183361   0.212823    3.0\n",
       "6007  0.615318  0.661905  0.234438   0.220858    3.0\n",
       "6008  0.371735  0.425609  0.223836   0.251973    3.0\n",
       "6009  0.363421  0.618110  0.243952   0.589882    4.0\n",
       "\n",
       "[6010 rows x 5 columns]"
      ]
     },
     "execution_count": 19,
     "metadata": {},
     "output_type": "execute_result"
    }
   ],
   "source": [
    "train_dataset"
   ]
  },
  {
   "cell_type": "code",
   "execution_count": 15,
   "metadata": {},
   "outputs": [],
   "source": [
    "#prepare dataset\n",
    "#prepare training set \n",
    "train_y = np.array(train_dataset['State'].tolist())\n",
    "featuresDf = train_dataset.drop(columns=['State'])\n",
    "train_x = featuresDf.to_numpy()\n",
    "\n",
    "#prepare validation set\n",
    "val_y = np.array(val_dataset['State'].tolist())\n",
    "featuresDf = val_dataset.drop(columns=['State'])\n",
    "val_x = featuresDf.to_numpy()\n",
    "\n",
    "#prepare test set\n",
    "test_y = np.array(test_dataset['State'].tolist())\n",
    "featuresDf = test_dataset.drop(columns=['State'])\n",
    "test_x = featuresDf.to_numpy()"
   ]
  },
  {
   "cell_type": "code",
   "execution_count": 21,
   "metadata": {},
   "outputs": [
    {
     "name": "stdout",
     "output_type": "stream",
     "text": [
      "accuracy on training set is 0.389850\n",
      "accuracy on validation set is 0.339193\n"
     ]
    }
   ],
   "source": [
    "from sklearn.ensemble import GradientBoostingClassifier\n",
    "\n",
    "clf1 = GradientBoostingClassifier(ccp_alpha=0.0, criterion='friedman_mse', init=None,\n",
    "                           learning_rate=0.05, loss='deviance', max_depth=1,\n",
    "                           max_features='sqrt', max_leaf_nodes=None,\n",
    "                           min_impurity_decrease=0.01, min_impurity_split=None,\n",
    "                           min_samples_leaf=1, min_samples_split=5,\n",
    "                           min_weight_fraction_leaf=0.0, n_estimators=130,\n",
    "                           n_iter_no_change=None,\n",
    "                           random_state=None, subsample=0.5, tol=0.0001,\n",
    "                           validation_fraction=0.1, verbose=0,\n",
    "                           warm_start=False)\n",
    "clf1.fit(train_x, train_y)\n",
    "\n",
    "#evaluate performance\n",
    "accuracytrain = clf1.score(train_x, train_y)\n",
    "print(\"accuracy on training set is %f\" % accuracytrain)\n",
    "accuracyval = clf1.score(val_x, val_y)\n",
    "print(\"accuracy on validation set is %f\" % accuracyval)"
   ]
  },
  {
   "cell_type": "code",
   "execution_count": 22,
   "metadata": {},
   "outputs": [],
   "source": [
    "valPredict1 = clf1.predict(val_x)"
   ]
  },
  {
   "cell_type": "markdown",
   "metadata": {},
   "source": [
    "Analyse accuracy of prediction for each machine state in the validation set"
   ]
  },
  {
   "cell_type": "code",
   "execution_count": 19,
   "metadata": {},
   "outputs": [],
   "source": [
    "def findIndexesPerLabel(ylist, label):\n",
    "    output = []\n",
    "    for order in range(0, len(ylist)):\n",
    "        if ylist[order] == label:\n",
    "            output.append(order)\n",
    "    return output"
   ]
  },
  {
   "cell_type": "code",
   "execution_count": 20,
   "metadata": {},
   "outputs": [],
   "source": [
    "def getPredictionsForLabel(indexList, allPredictions):\n",
    "    predict = []\n",
    "    for order in indexList:\n",
    "        predict.append(allPredictions[order])\n",
    "    return predict"
   ]
  },
  {
   "cell_type": "code",
   "execution_count": 27,
   "metadata": {},
   "outputs": [
    {
     "name": "stdout",
     "output_type": "stream",
     "text": [
      "Validation accuracy of state 0 is 0.470297\n"
     ]
    }
   ],
   "source": [
    "#State 0 \n",
    "indexes0 = findIndexesPerLabel(val_y, 0)\n",
    "actual0 = [0 for i in range(0, len(indexes0))]\n",
    "predicted0 = getPredictionsForLabel(indexes0, valPredict1)\n",
    "accuracy0 = accuracy_score(actual0, predicted0)\n",
    "print(\"Validation accuracy of state 0 is %f\" % accuracy0)"
   ]
  },
  {
   "cell_type": "code",
   "execution_count": 29,
   "metadata": {},
   "outputs": [
    {
     "data": {
      "text/plain": [
       "Counter({1.0: 21, 0.0: 95, 3.0: 17, 2.0: 69})"
      ]
     },
     "execution_count": 29,
     "metadata": {},
     "output_type": "execute_result"
    }
   ],
   "source": [
    "from collections import Counter\n",
    "Counter(predicted0)"
   ]
  },
  {
   "cell_type": "code",
   "execution_count": 28,
   "metadata": {},
   "outputs": [
    {
     "name": "stdout",
     "output_type": "stream",
     "text": [
      "Validation accuracy of state 1 is 0.087649\n"
     ]
    }
   ],
   "source": [
    "#State 1 \n",
    "indexes1 = findIndexesPerLabel(val_y, 1)\n",
    "actual1 = [1 for i in range(0, len(indexes1))]\n",
    "predicted1 = getPredictionsForLabel(indexes1, valPredict1)\n",
    "accuracy1 = accuracy_score(actual1, predicted1)\n",
    "print(\"Validation accuracy of state 1 is %f\" % accuracy1)"
   ]
  },
  {
   "cell_type": "code",
   "execution_count": 30,
   "metadata": {},
   "outputs": [
    {
     "data": {
      "text/plain": [
       "Counter({0.0: 98, 2.0: 104, 1.0: 22, 3.0: 27})"
      ]
     },
     "execution_count": 30,
     "metadata": {},
     "output_type": "execute_result"
    }
   ],
   "source": [
    "Counter(predicted1)"
   ]
  },
  {
   "cell_type": "code",
   "execution_count": 32,
   "metadata": {},
   "outputs": [
    {
     "name": "stdout",
     "output_type": "stream",
     "text": [
      "Validation accuracy of state 2 is 0.407563\n"
     ]
    }
   ],
   "source": [
    "#State 2 \n",
    "indexes2 = findIndexesPerLabel(val_y, 2)\n",
    "actual2 = [2 for i in range(0, len(indexes2))]\n",
    "predicted2 = getPredictionsForLabel(indexes2, valPredict1)\n",
    "accuracy2 = accuracy_score(actual2, predicted2)\n",
    "print(\"Validation accuracy of state 2 is %f\" % accuracy2)"
   ]
  },
  {
   "cell_type": "code",
   "execution_count": 33,
   "metadata": {},
   "outputs": [
    {
     "data": {
      "text/plain": [
       "Counter({0.0: 68, 3.0: 47, 2.0: 97, 1.0: 25, 4.0: 1})"
      ]
     },
     "execution_count": 33,
     "metadata": {},
     "output_type": "execute_result"
    }
   ],
   "source": [
    "Counter(predicted2)"
   ]
  },
  {
   "cell_type": "code",
   "execution_count": 34,
   "metadata": {},
   "outputs": [
    {
     "name": "stdout",
     "output_type": "stream",
     "text": [
      "Validation accuracy of state 3 is 0.404145\n"
     ]
    }
   ],
   "source": [
    "#State 3 \n",
    "indexes3 = findIndexesPerLabel(val_y, 3)\n",
    "actual3 = [3 for i in range(0, len(indexes3))]\n",
    "predicted3 = getPredictionsForLabel(indexes3, valPredict1)\n",
    "accuracy3 = accuracy_score(actual3, predicted3)\n",
    "print(\"Validation accuracy of state 3 is %f\" % accuracy3)"
   ]
  },
  {
   "cell_type": "code",
   "execution_count": 35,
   "metadata": {},
   "outputs": [
    {
     "data": {
      "text/plain": [
       "Counter({3.0: 78, 4.0: 20, 2.0: 56, 0.0: 30, 1.0: 9})"
      ]
     },
     "execution_count": 35,
     "metadata": {},
     "output_type": "execute_result"
    }
   ],
   "source": [
    "Counter(predicted3)"
   ]
  },
  {
   "cell_type": "code",
   "execution_count": 36,
   "metadata": {},
   "outputs": [
    {
     "name": "stdout",
     "output_type": "stream",
     "text": [
      "Validation accuracy of state 4 is 0.467532\n"
     ]
    }
   ],
   "source": [
    "#State 4 \n",
    "indexes4 = findIndexesPerLabel(val_y, 4)\n",
    "actual4 = [4 for i in range(0, len(indexes4))]\n",
    "predicted4 = getPredictionsForLabel(indexes4, valPredict1)\n",
    "accuracy4 = accuracy_score(actual4, predicted4)\n",
    "print(\"Validation accuracy of state 4 is %f\" % accuracy4)"
   ]
  },
  {
   "cell_type": "code",
   "execution_count": 37,
   "metadata": {},
   "outputs": [
    {
     "data": {
      "text/plain": [
       "Counter({3.0: 27, 4.0: 36, 0.0: 13, 5.0: 1})"
      ]
     },
     "execution_count": 37,
     "metadata": {},
     "output_type": "execute_result"
    }
   ],
   "source": [
    "Counter(predicted4)"
   ]
  },
  {
   "cell_type": "code",
   "execution_count": 38,
   "metadata": {},
   "outputs": [
    {
     "name": "stdout",
     "output_type": "stream",
     "text": [
      "Validation accuracy of state 5 is 0.000000\n"
     ]
    }
   ],
   "source": [
    "#State 5 \n",
    "indexes5 = findIndexesPerLabel(val_y, 5)\n",
    "actual5 = [5 for i in range(0, len(indexes5))]\n",
    "predicted5 = getPredictionsForLabel(indexes5, valPredict1)\n",
    "accuracy5 = accuracy_score(actual5, predicted5)\n",
    "print(\"Validation accuracy of state 5 is %f\" % accuracy5)"
   ]
  },
  {
   "cell_type": "code",
   "execution_count": 39,
   "metadata": {},
   "outputs": [
    {
     "data": {
      "text/plain": [
       "Counter({4.0: 4, 3.0: 2})"
      ]
     },
     "execution_count": 39,
     "metadata": {},
     "output_type": "execute_result"
    }
   ],
   "source": [
    "Counter(predicted5)"
   ]
  },
  {
   "cell_type": "markdown",
   "metadata": {},
   "source": [
    "### Model 2: Artificial Neural Networks"
   ]
  },
  {
   "cell_type": "code",
   "execution_count": 16,
   "metadata": {},
   "outputs": [
    {
     "name": "stdout",
     "output_type": "stream",
     "text": [
      "accuracy on training set is 0.361730\n",
      "accuracy on validation set is 0.350569\n"
     ]
    }
   ],
   "source": [
    "from sklearn.neural_network import MLPClassifier\n",
    "\n",
    "#train multilayer perceptron \n",
    "clf2 = MLPClassifier(hidden_layer_sizes=(256, 128, 64, 32), \n",
    "                      random_state=42, max_iter=300, batch_size=32, \n",
    "                      shuffle=False, early_stopping=True)\n",
    "clf2.fit(train_x, train_y)\n",
    "\n",
    "#evaluate performance\n",
    "accuracytrain = clf2.score(train_x, train_y)\n",
    "print(\"accuracy on training set is %f\" % accuracytrain)\n",
    "accuracyval = clf2.score(val_x, val_y)\n",
    "print(\"accuracy on validation set is %f\" % accuracyval)"
   ]
  },
  {
   "cell_type": "code",
   "execution_count": 17,
   "metadata": {},
   "outputs": [],
   "source": [
    "valPredict2 = clf2.predict(val_x)"
   ]
  },
  {
   "cell_type": "code",
   "execution_count": 21,
   "metadata": {},
   "outputs": [
    {
     "name": "stdout",
     "output_type": "stream",
     "text": [
      "Validation accuracy of state 0 is 0.287129\n"
     ]
    }
   ],
   "source": [
    "#State 0 \n",
    "indexes0 = findIndexesPerLabel(val_y, 0)\n",
    "actual0 = [0 for i in range(0, len(indexes0))]\n",
    "predicted0 = getPredictionsForLabel(indexes0, valPredict2)\n",
    "accuracy0 = accuracy_score(actual0, predicted0)\n",
    "print(\"Validation accuracy of state 0 is %f\" % accuracy0)"
   ]
  },
  {
   "cell_type": "code",
   "execution_count": 23,
   "metadata": {},
   "outputs": [
    {
     "data": {
      "text/plain": [
       "Counter({1.0: 77, 0.0: 58, 2.0: 51, 4.0: 11, 3.0: 5})"
      ]
     },
     "execution_count": 23,
     "metadata": {},
     "output_type": "execute_result"
    }
   ],
   "source": [
    "from collections import Counter\n",
    "Counter(predicted0)"
   ]
  },
  {
   "cell_type": "code",
   "execution_count": 24,
   "metadata": {},
   "outputs": [
    {
     "name": "stdout",
     "output_type": "stream",
     "text": [
      "Validation accuracy of state 1 is 0.418327\n"
     ]
    }
   ],
   "source": [
    "#State 1 \n",
    "indexes1 = findIndexesPerLabel(val_y, 1)\n",
    "actual1 = [1 for i in range(0, len(indexes1))]\n",
    "predicted1 = getPredictionsForLabel(indexes1, valPredict2)\n",
    "accuracy1 = accuracy_score(actual1, predicted1)\n",
    "print(\"Validation accuracy of state 1 is %f\" % accuracy1)"
   ]
  },
  {
   "cell_type": "code",
   "execution_count": 25,
   "metadata": {},
   "outputs": [
    {
     "data": {
      "text/plain": [
       "Counter({1.0: 105, 2.0: 78, 0.0: 58, 3.0: 9, 4.0: 1})"
      ]
     },
     "execution_count": 25,
     "metadata": {},
     "output_type": "execute_result"
    }
   ],
   "source": [
    "Counter(predicted1)"
   ]
  },
  {
   "cell_type": "code",
   "execution_count": 26,
   "metadata": {},
   "outputs": [
    {
     "name": "stdout",
     "output_type": "stream",
     "text": [
      "Validation accuracy of state 2 is 0.336134\n"
     ]
    }
   ],
   "source": [
    "#State 2 \n",
    "indexes2 = findIndexesPerLabel(val_y, 2)\n",
    "actual2 = [2 for i in range(0, len(indexes2))]\n",
    "predicted2 = getPredictionsForLabel(indexes2, valPredict2)\n",
    "accuracy2 = accuracy_score(actual2, predicted2)\n",
    "print(\"Validation accuracy of state 2 is %f\" % accuracy2)"
   ]
  },
  {
   "cell_type": "code",
   "execution_count": 27,
   "metadata": {},
   "outputs": [
    {
     "data": {
      "text/plain": [
       "Counter({0.0: 39, 3.0: 23, 2.0: 80, 1.0: 92, 4.0: 4})"
      ]
     },
     "execution_count": 27,
     "metadata": {},
     "output_type": "execute_result"
    }
   ],
   "source": [
    "Counter(predicted2)"
   ]
  },
  {
   "cell_type": "code",
   "execution_count": 28,
   "metadata": {},
   "outputs": [
    {
     "name": "stdout",
     "output_type": "stream",
     "text": [
      "Validation accuracy of state 3 is 0.202073\n"
     ]
    }
   ],
   "source": [
    "#State 3 \n",
    "indexes3 = findIndexesPerLabel(val_y, 3)\n",
    "actual3 = [3 for i in range(0, len(indexes3))]\n",
    "predicted3 = getPredictionsForLabel(indexes3, valPredict2)\n",
    "accuracy3 = accuracy_score(actual3, predicted3)\n",
    "print(\"Validation accuracy of state 3 is %f\" % accuracy3)"
   ]
  },
  {
   "cell_type": "code",
   "execution_count": 29,
   "metadata": {},
   "outputs": [
    {
     "data": {
      "text/plain": [
       "Counter({2.0: 73, 4.0: 39, 3.0: 39, 1.0: 35, 0.0: 7})"
      ]
     },
     "execution_count": 29,
     "metadata": {},
     "output_type": "execute_result"
    }
   ],
   "source": [
    "Counter(predicted3)"
   ]
  },
  {
   "cell_type": "code",
   "execution_count": 30,
   "metadata": {},
   "outputs": [
    {
     "name": "stdout",
     "output_type": "stream",
     "text": [
      "Validation accuracy of state 4 is 0.740260\n"
     ]
    }
   ],
   "source": [
    "#State 4 \n",
    "indexes4 = findIndexesPerLabel(val_y, 4)\n",
    "actual4 = [4 for i in range(0, len(indexes4))]\n",
    "predicted4 = getPredictionsForLabel(indexes4, valPredict2)\n",
    "accuracy4 = accuracy_score(actual4, predicted4)\n",
    "print(\"Validation accuracy of state 4 is %f\" % accuracy4)"
   ]
  },
  {
   "cell_type": "code",
   "execution_count": 31,
   "metadata": {},
   "outputs": [
    {
     "data": {
      "text/plain": [
       "Counter({3.0: 16, 4.0: 57, 0.0: 4})"
      ]
     },
     "execution_count": 31,
     "metadata": {},
     "output_type": "execute_result"
    }
   ],
   "source": [
    "Counter(predicted4)"
   ]
  },
  {
   "cell_type": "code",
   "execution_count": 32,
   "metadata": {},
   "outputs": [
    {
     "name": "stdout",
     "output_type": "stream",
     "text": [
      "Validation accuracy of state 5 is 0.000000\n"
     ]
    }
   ],
   "source": [
    "#State 5 \n",
    "indexes5 = findIndexesPerLabel(val_y, 5)\n",
    "actual5 = [5 for i in range(0, len(indexes5))]\n",
    "predicted5 = getPredictionsForLabel(indexes5, valPredict2)\n",
    "accuracy5 = accuracy_score(actual5, predicted5)\n",
    "print(\"Validation accuracy of state 5 is %f\" % accuracy5)"
   ]
  },
  {
   "cell_type": "code",
   "execution_count": 33,
   "metadata": {},
   "outputs": [
    {
     "data": {
      "text/plain": [
       "Counter({4.0: 5, 3.0: 1})"
      ]
     },
     "execution_count": 33,
     "metadata": {},
     "output_type": "execute_result"
    }
   ],
   "source": [
    "Counter(predicted5)"
   ]
  },
  {
   "cell_type": "code",
   "execution_count": 34,
   "metadata": {},
   "outputs": [
    {
     "data": {
      "text/plain": [
       "['machineStateClassifier_Original.joblib']"
      ]
     },
     "execution_count": 34,
     "metadata": {},
     "output_type": "execute_result"
    }
   ],
   "source": [
    "#save model\n",
    "from joblib import dump\n",
    "fileName1 = 'machineStateClassifier_Original.joblib'\n",
    "dump(clf2, fileName1)"
   ]
  },
  {
   "cell_type": "markdown",
   "metadata": {},
   "source": [
    "### Model 3: ANN but with target classes reformatted "
   ]
  },
  {
   "cell_type": "markdown",
   "metadata": {},
   "source": [
    "Classes 0 and 1 are combined. The target classes are now 0(0 and 1), 1(2), 2(3), 3(4), 4(5)"
   ]
  },
  {
   "cell_type": "code",
   "execution_count": 42,
   "metadata": {},
   "outputs": [],
   "source": [
    "def formatTargetClasses(originalTargetLst):\n",
    "    output = []\n",
    "    for target in originalTargetLst:\n",
    "        if target < 2:\n",
    "            output.append(0)\n",
    "        else:\n",
    "            output.append(int(target-1))\n",
    "    return output"
   ]
  },
  {
   "cell_type": "code",
   "execution_count": 43,
   "metadata": {},
   "outputs": [],
   "source": [
    "train_y_formatted = formatTargetClasses(train_y)\n",
    "val_y_formatted = formatTargetClasses(val_y)\n",
    "test_y_formatted = formatTargetClasses(test_y)"
   ]
  },
  {
   "cell_type": "code",
   "execution_count": 44,
   "metadata": {},
   "outputs": [
    {
     "data": {
      "text/plain": [
       "[0,\n",
       " 0,\n",
       " 1,\n",
       " 1,\n",
       " 1,\n",
       " 1,\n",
       " 1,\n",
       " 1,\n",
       " 2,\n",
       " 3,\n",
       " 0,\n",
       " 0,\n",
       " 0,\n",
       " 0,\n",
       " 1,\n",
       " 1,\n",
       " 1,\n",
       " 2,\n",
       " 2,\n",
       " 2,\n",
       " 2,\n",
       " 2,\n",
       " 4,\n",
       " 0,\n",
       " 0,\n",
       " 0,\n",
       " 1,\n",
       " 1,\n",
       " 2,\n",
       " 2,\n",
       " 2,\n",
       " 2,\n",
       " 4,\n",
       " 0,\n",
       " 0,\n",
       " 0,\n",
       " 0,\n",
       " 0,\n",
       " 0,\n",
       " 0,\n",
       " 0,\n",
       " 1,\n",
       " 2,\n",
       " 2,\n",
       " 3,\n",
       " 0,\n",
       " 0,\n",
       " 1,\n",
       " 1,\n",
       " 2,\n",
       " 3,\n",
       " 0,\n",
       " 0,\n",
       " 0,\n",
       " 0,\n",
       " 0,\n",
       " 0,\n",
       " 0,\n",
       " 0,\n",
       " 0,\n",
       " 1,\n",
       " 1,\n",
       " 1,\n",
       " 2,\n",
       " 2,\n",
       " 2,\n",
       " 2,\n",
       " 2,\n",
       " 2,\n",
       " 3,\n",
       " 0,\n",
       " 0,\n",
       " 0,\n",
       " 0,\n",
       " 4,\n",
       " 0,\n",
       " 0,\n",
       " 1,\n",
       " 1,\n",
       " 1,\n",
       " 2,\n",
       " 2,\n",
       " 2,\n",
       " 3,\n",
       " 0,\n",
       " 0,\n",
       " 0,\n",
       " 4,\n",
       " 0,\n",
       " 0,\n",
       " 1,\n",
       " 2,\n",
       " 2,\n",
       " 2,\n",
       " 2,\n",
       " 3,\n",
       " 0,\n",
       " 0,\n",
       " 0,\n",
       " 1,\n",
       " 2,\n",
       " 3,\n",
       " 0,\n",
       " 0,\n",
       " 0,\n",
       " 0,\n",
       " 1,\n",
       " 1,\n",
       " 1,\n",
       " 1,\n",
       " 2,\n",
       " 2,\n",
       " 2,\n",
       " 2,\n",
       " 2,\n",
       " 2,\n",
       " 2,\n",
       " 3,\n",
       " 0,\n",
       " 0,\n",
       " 0,\n",
       " 1,\n",
       " 1,\n",
       " 1,\n",
       " 1,\n",
       " 1,\n",
       " 1,\n",
       " 2,\n",
       " 3,\n",
       " 0,\n",
       " 0,\n",
       " 0,\n",
       " 0,\n",
       " 0,\n",
       " 1,\n",
       " 2,\n",
       " 2,\n",
       " 3,\n",
       " 0,\n",
       " 0,\n",
       " 1,\n",
       " 1,\n",
       " 1,\n",
       " 1,\n",
       " 1,\n",
       " 2,\n",
       " 4,\n",
       " 0,\n",
       " 0,\n",
       " 0,\n",
       " 0,\n",
       " 0,\n",
       " 1,\n",
       " 1,\n",
       " 1,\n",
       " 1,\n",
       " 1,\n",
       " 1,\n",
       " 2,\n",
       " 2,\n",
       " 2,\n",
       " 3,\n",
       " 0,\n",
       " 0,\n",
       " 0,\n",
       " 0,\n",
       " 0,\n",
       " 0,\n",
       " 0,\n",
       " 1,\n",
       " 1,\n",
       " 2,\n",
       " 2,\n",
       " 2,\n",
       " 3,\n",
       " 0,\n",
       " 0,\n",
       " 0,\n",
       " 0,\n",
       " 1,\n",
       " 2,\n",
       " 2,\n",
       " 3,\n",
       " 0,\n",
       " 0,\n",
       " 0,\n",
       " 4,\n",
       " 0,\n",
       " 0,\n",
       " 0,\n",
       " 0,\n",
       " 0,\n",
       " 0,\n",
       " 1,\n",
       " 1,\n",
       " 1,\n",
       " 1,\n",
       " 1,\n",
       " 1,\n",
       " 2,\n",
       " 3,\n",
       " 0,\n",
       " 0,\n",
       " 0,\n",
       " 0,\n",
       " 0,\n",
       " 0,\n",
       " 0,\n",
       " 1,\n",
       " 1,\n",
       " 2,\n",
       " 2,\n",
       " 3,\n",
       " 0,\n",
       " 0,\n",
       " 0,\n",
       " 0,\n",
       " 0,\n",
       " 0,\n",
       " 0,\n",
       " 1,\n",
       " 1,\n",
       " 2,\n",
       " 3,\n",
       " 0,\n",
       " 0,\n",
       " 0,\n",
       " 0,\n",
       " 1,\n",
       " 1,\n",
       " 1,\n",
       " 1,\n",
       " 1,\n",
       " 2,\n",
       " 2,\n",
       " 3,\n",
       " 0,\n",
       " 0,\n",
       " 0,\n",
       " 1,\n",
       " 1,\n",
       " 1,\n",
       " 2,\n",
       " 3,\n",
       " 0,\n",
       " 0,\n",
       " 0,\n",
       " 0,\n",
       " 0,\n",
       " 0,\n",
       " 0,\n",
       " 1,\n",
       " 2,\n",
       " 2,\n",
       " 2,\n",
       " 3,\n",
       " 0,\n",
       " 0,\n",
       " 0,\n",
       " 1,\n",
       " 2,\n",
       " 3,\n",
       " 0,\n",
       " 0,\n",
       " 0,\n",
       " 0,\n",
       " 0,\n",
       " 0,\n",
       " 0,\n",
       " 0,\n",
       " 0,\n",
       " 0,\n",
       " 0,\n",
       " 0,\n",
       " 0,\n",
       " 0,\n",
       " 1,\n",
       " 1,\n",
       " 1,\n",
       " 2,\n",
       " 4,\n",
       " 0,\n",
       " 0,\n",
       " 0,\n",
       " 0,\n",
       " 0,\n",
       " 1,\n",
       " 2,\n",
       " 2,\n",
       " 2,\n",
       " 3,\n",
       " 0,\n",
       " 0,\n",
       " 0,\n",
       " 0,\n",
       " 0,\n",
       " 0,\n",
       " 0,\n",
       " 0,\n",
       " 0,\n",
       " 0,\n",
       " 1,\n",
       " 1,\n",
       " 1,\n",
       " 1,\n",
       " 1,\n",
       " 1,\n",
       " 1,\n",
       " 1,\n",
       " 1,\n",
       " 2,\n",
       " 2,\n",
       " 2,\n",
       " 2,\n",
       " 2,\n",
       " 2,\n",
       " 2,\n",
       " 2,\n",
       " 3,\n",
       " 0,\n",
       " 0,\n",
       " 0,\n",
       " 0,\n",
       " 0,\n",
       " 0,\n",
       " 0,\n",
       " 0,\n",
       " 1,\n",
       " 1,\n",
       " 1,\n",
       " 2,\n",
       " 2,\n",
       " 3,\n",
       " 0,\n",
       " 0,\n",
       " 4,\n",
       " 0,\n",
       " 0,\n",
       " 0,\n",
       " 0,\n",
       " 0,\n",
       " 0,\n",
       " 0,\n",
       " 0,\n",
       " 0,\n",
       " 0,\n",
       " 0,\n",
       " 0,\n",
       " 1,\n",
       " 1,\n",
       " 1,\n",
       " 2,\n",
       " 2,\n",
       " 2,\n",
       " 3,\n",
       " 0,\n",
       " 0,\n",
       " 0,\n",
       " 4,\n",
       " 0,\n",
       " 0,\n",
       " 4,\n",
       " 0,\n",
       " 0,\n",
       " 1,\n",
       " 2,\n",
       " 2,\n",
       " 2,\n",
       " 2,\n",
       " 3,\n",
       " 0,\n",
       " 0,\n",
       " 1,\n",
       " 2,\n",
       " 3,\n",
       " 0,\n",
       " 0,\n",
       " 0,\n",
       " 0,\n",
       " 1,\n",
       " 1,\n",
       " 1,\n",
       " 1,\n",
       " 1,\n",
       " 1,\n",
       " 1,\n",
       " 2,\n",
       " 3,\n",
       " 0,\n",
       " 0,\n",
       " 1,\n",
       " 1,\n",
       " 1,\n",
       " 1,\n",
       " 1,\n",
       " 1,\n",
       " 1,\n",
       " 2,\n",
       " 2,\n",
       " 2,\n",
       " 2,\n",
       " 3,\n",
       " 0,\n",
       " 0,\n",
       " 1,\n",
       " 1,\n",
       " 1,\n",
       " 1,\n",
       " 1,\n",
       " 2,\n",
       " 2,\n",
       " 3,\n",
       " 0,\n",
       " 0,\n",
       " 0,\n",
       " 0,\n",
       " 0,\n",
       " 1,\n",
       " 1,\n",
       " 1,\n",
       " 1,\n",
       " 1,\n",
       " 2,\n",
       " 3,\n",
       " 0,\n",
       " 0,\n",
       " 0,\n",
       " 0,\n",
       " 0,\n",
       " 0,\n",
       " 0,\n",
       " 1,\n",
       " 2,\n",
       " 2,\n",
       " 2,\n",
       " 2,\n",
       " 2,\n",
       " 2,\n",
       " 3,\n",
       " 0,\n",
       " 0,\n",
       " 0,\n",
       " 0,\n",
       " 0,\n",
       " 1,\n",
       " 2,\n",
       " 2,\n",
       " 3,\n",
       " 0,\n",
       " 0,\n",
       " 0,\n",
       " 0,\n",
       " 1,\n",
       " 1,\n",
       " 1,\n",
       " 1,\n",
       " 1,\n",
       " 1,\n",
       " 2,\n",
       " 2,\n",
       " 2,\n",
       " 3,\n",
       " 0,\n",
       " 0,\n",
       " 0,\n",
       " 1,\n",
       " 2,\n",
       " 2,\n",
       " 2,\n",
       " 2,\n",
       " 4,\n",
       " 0,\n",
       " 0,\n",
       " 1,\n",
       " 2,\n",
       " 2,\n",
       " 2,\n",
       " 3,\n",
       " 0,\n",
       " 0,\n",
       " 0,\n",
       " 1,\n",
       " 2,\n",
       " 2,\n",
       " 2,\n",
       " 2,\n",
       " 2,\n",
       " 2,\n",
       " 2,\n",
       " 2,\n",
       " 3,\n",
       " 0,\n",
       " 0,\n",
       " 0,\n",
       " 0,\n",
       " 0,\n",
       " 0,\n",
       " 0,\n",
       " 0,\n",
       " 0,\n",
       " 0,\n",
       " 0,\n",
       " 0,\n",
       " 0,\n",
       " 0,\n",
       " 0,\n",
       " 1,\n",
       " 1,\n",
       " 2,\n",
       " 3,\n",
       " 0,\n",
       " 0,\n",
       " 0,\n",
       " 1,\n",
       " 1,\n",
       " 2,\n",
       " 2,\n",
       " 3,\n",
       " 0,\n",
       " 0,\n",
       " 0,\n",
       " 0,\n",
       " 0,\n",
       " 1,\n",
       " 2,\n",
       " 2,\n",
       " 2,\n",
       " 2,\n",
       " 3,\n",
       " 0,\n",
       " 0,\n",
       " 0,\n",
       " 0,\n",
       " 0,\n",
       " 0,\n",
       " 0,\n",
       " 0,\n",
       " 1,\n",
       " 1,\n",
       " 1,\n",
       " 1,\n",
       " 1,\n",
       " 1,\n",
       " 1,\n",
       " 1,\n",
       " 1,\n",
       " 1,\n",
       " 1,\n",
       " 1,\n",
       " 2,\n",
       " 2,\n",
       " 3,\n",
       " 0,\n",
       " 0,\n",
       " 0,\n",
       " 0,\n",
       " 0,\n",
       " 0,\n",
       " 0,\n",
       " 0,\n",
       " 0,\n",
       " 1,\n",
       " 1,\n",
       " 1,\n",
       " 1,\n",
       " 1,\n",
       " 1,\n",
       " 1,\n",
       " 2,\n",
       " 2,\n",
       " 2,\n",
       " 3,\n",
       " 0,\n",
       " 0,\n",
       " 0,\n",
       " 0,\n",
       " 0,\n",
       " 0,\n",
       " 0,\n",
       " 0,\n",
       " 0,\n",
       " 0,\n",
       " 0,\n",
       " 1,\n",
       " 2,\n",
       " 2,\n",
       " 3,\n",
       " 0,\n",
       " 0,\n",
       " 0,\n",
       " 0,\n",
       " 0,\n",
       " 0,\n",
       " 1,\n",
       " 2,\n",
       " 2,\n",
       " 2,\n",
       " 3,\n",
       " 0,\n",
       " 0,\n",
       " 0,\n",
       " 0,\n",
       " 0,\n",
       " 0,\n",
       " 0,\n",
       " 0,\n",
       " 0,\n",
       " 0,\n",
       " 0,\n",
       " 0,\n",
       " 0,\n",
       " 0,\n",
       " 0,\n",
       " 1,\n",
       " 2,\n",
       " 2,\n",
       " 2,\n",
       " 3,\n",
       " 0,\n",
       " 0,\n",
       " 0,\n",
       " 0,\n",
       " 0,\n",
       " 1,\n",
       " 1,\n",
       " 2,\n",
       " 3,\n",
       " 0,\n",
       " 0,\n",
       " 1,\n",
       " 4,\n",
       " 0,\n",
       " 0,\n",
       " 0,\n",
       " 0,\n",
       " 0,\n",
       " 1,\n",
       " 1,\n",
       " 1,\n",
       " 1,\n",
       " 2,\n",
       " 2,\n",
       " 2,\n",
       " 2,\n",
       " 3,\n",
       " 0,\n",
       " 0,\n",
       " 0,\n",
       " 0,\n",
       " 0,\n",
       " 0,\n",
       " 0,\n",
       " 0,\n",
       " 0,\n",
       " 1,\n",
       " 2,\n",
       " 2,\n",
       " 2,\n",
       " 2,\n",
       " 2,\n",
       " 3,\n",
       " 0,\n",
       " 0,\n",
       " 0,\n",
       " 1,\n",
       " 1,\n",
       " 2,\n",
       " 2,\n",
       " 2,\n",
       " 2,\n",
       " 3,\n",
       " 0,\n",
       " 0,\n",
       " 1,\n",
       " 1,\n",
       " 2,\n",
       " 2,\n",
       " 2,\n",
       " 3,\n",
       " 0,\n",
       " 0,\n",
       " 0,\n",
       " 0,\n",
       " 0,\n",
       " 1,\n",
       " 1,\n",
       " 4,\n",
       " 0,\n",
       " 0,\n",
       " 1,\n",
       " 1,\n",
       " 2,\n",
       " 2,\n",
       " 2,\n",
       " 3,\n",
       " 0,\n",
       " 0,\n",
       " 0,\n",
       " 1,\n",
       " 1,\n",
       " 1,\n",
       " 1,\n",
       " 2,\n",
       " 2,\n",
       " 2,\n",
       " 2,\n",
       " 2,\n",
       " 2,\n",
       " 3,\n",
       " 0,\n",
       " 0,\n",
       " 0,\n",
       " 0,\n",
       " 0,\n",
       " 0,\n",
       " 0,\n",
       " 0,\n",
       " 0,\n",
       " 1,\n",
       " 1,\n",
       " 2,\n",
       " 3,\n",
       " 0,\n",
       " 0,\n",
       " 0,\n",
       " 0,\n",
       " 0,\n",
       " 0,\n",
       " 0,\n",
       " 0,\n",
       " 0,\n",
       " 0,\n",
       " 0,\n",
       " 0,\n",
       " 0,\n",
       " 0,\n",
       " 0,\n",
       " 1,\n",
       " 1,\n",
       " 2,\n",
       " 3,\n",
       " 0,\n",
       " 0,\n",
       " 0,\n",
       " 0,\n",
       " 0,\n",
       " 1,\n",
       " 1,\n",
       " 2,\n",
       " 2,\n",
       " 2,\n",
       " 2,\n",
       " 2,\n",
       " 2,\n",
       " 2,\n",
       " 2,\n",
       " 2,\n",
       " 2,\n",
       " 2,\n",
       " 2,\n",
       " 3,\n",
       " 0,\n",
       " 0,\n",
       " 0,\n",
       " 1,\n",
       " 1,\n",
       " 1,\n",
       " 2,\n",
       " 2,\n",
       " 2,\n",
       " 2,\n",
       " 3,\n",
       " 0,\n",
       " 0,\n",
       " 0,\n",
       " 0,\n",
       " 1,\n",
       " 2,\n",
       " 2,\n",
       " 2,\n",
       " 2,\n",
       " 3,\n",
       " 0,\n",
       " 0,\n",
       " 0,\n",
       " 0,\n",
       " 0,\n",
       " 0,\n",
       " 0,\n",
       " 0,\n",
       " 0,\n",
       " 0,\n",
       " 0,\n",
       " 0,\n",
       " 1,\n",
       " 1,\n",
       " 1,\n",
       " 1,\n",
       " 1,\n",
       " 1,\n",
       " 1,\n",
       " 2,\n",
       " 3,\n",
       " 0,\n",
       " 0,\n",
       " 0,\n",
       " 0,\n",
       " 1,\n",
       " 1,\n",
       " 1,\n",
       " 2,\n",
       " 3,\n",
       " 0,\n",
       " 0,\n",
       " 0,\n",
       " 0,\n",
       " 0,\n",
       " 1,\n",
       " 1,\n",
       " 1,\n",
       " 1,\n",
       " 2,\n",
       " 3,\n",
       " 0,\n",
       " 0,\n",
       " 0,\n",
       " 0,\n",
       " 0,\n",
       " 1,\n",
       " 1,\n",
       " 1,\n",
       " 2,\n",
       " 2,\n",
       " 2,\n",
       " 2,\n",
       " 2,\n",
       " 2,\n",
       " 2,\n",
       " 3,\n",
       " 0,\n",
       " 0,\n",
       " 1,\n",
       " 1,\n",
       " 2,\n",
       " 2,\n",
       " 2,\n",
       " 2,\n",
       " 3,\n",
       " 0,\n",
       " 0,\n",
       " 0,\n",
       " 0,\n",
       " 0,\n",
       " 1,\n",
       " 1,\n",
       " 1,\n",
       " 1,\n",
       " 1,\n",
       " 1,\n",
       " 1,\n",
       " 2,\n",
       " 3,\n",
       " 0,\n",
       " 0,\n",
       " 0,\n",
       " 1,\n",
       " 1,\n",
       " 2,\n",
       " 2,\n",
       " 2,\n",
       " 3,\n",
       " 0,\n",
       " 0,\n",
       " 0,\n",
       " 0,\n",
       " 1,\n",
       " 1,\n",
       " 1,\n",
       " 1,\n",
       " 1,\n",
       " 2,\n",
       " 3,\n",
       " 0,\n",
       " 0,\n",
       " 0,\n",
       " 0,\n",
       " 0,\n",
       " 0,\n",
       " 1,\n",
       " 2,\n",
       " 2,\n",
       " 2,\n",
       " 2,\n",
       " 2,\n",
       " 2,\n",
       " 3,\n",
       " 0,\n",
       " 4,\n",
       " 0,\n",
       " 0,\n",
       " 0,\n",
       " 0,\n",
       " 0,\n",
       " 0,\n",
       " 0,\n",
       " 0,\n",
       " 0,\n",
       " 0,\n",
       " 1,\n",
       " 2,\n",
       " 3,\n",
       " 0,\n",
       " 0,\n",
       " 0,\n",
       " 1,\n",
       " 1,\n",
       " 2,\n",
       " 2,\n",
       " 2,\n",
       " 3,\n",
       " 0,\n",
       " 0,\n",
       " 4,\n",
       " 0,\n",
       " 0,\n",
       " 0,\n",
       " 1,\n",
       " 2,\n",
       " 2,\n",
       " 2,\n",
       " 3,\n",
       " 0,\n",
       " 0,\n",
       " 0,\n",
       " 0,\n",
       " 0,\n",
       " 0,\n",
       " 0,\n",
       " 0,\n",
       " 0,\n",
       " 1,\n",
       " 1,\n",
       " 2,\n",
       " 2,\n",
       " 2,\n",
       " 2,\n",
       " 3,\n",
       " 0,\n",
       " 0,\n",
       " 0,\n",
       " 0,\n",
       " 0,\n",
       " 1,\n",
       " 2,\n",
       " 2,\n",
       " 3,\n",
       " 0,\n",
       " 0,\n",
       " 0,\n",
       " 0,\n",
       " 1,\n",
       " 1,\n",
       " 1,\n",
       " 2,\n",
       " 2,\n",
       " 2,\n",
       " 2,\n",
       " 2,\n",
       " 2,\n",
       " 2,\n",
       " 2,\n",
       " 3,\n",
       " 0,\n",
       " 0,\n",
       " 0,\n",
       " 0,\n",
       " 0,\n",
       " 0,\n",
       " 0,\n",
       " 0,\n",
       " 0,\n",
       " 0,\n",
       " 0,\n",
       " 1,\n",
       " 1,\n",
       " 2,\n",
       " 2,\n",
       " 2,\n",
       " 2,\n",
       " 2,\n",
       " 3,\n",
       " 0,\n",
       " 0,\n",
       " 0,\n",
       " 0,\n",
       " 1,\n",
       " 1,\n",
       " 1,\n",
       " 1,\n",
       " 1,\n",
       " ...]"
      ]
     },
     "execution_count": 44,
     "metadata": {},
     "output_type": "execute_result"
    }
   ],
   "source": [
    "train_y_formatted"
   ]
  },
  {
   "cell_type": "code",
   "execution_count": 45,
   "metadata": {},
   "outputs": [
    {
     "name": "stdout",
     "output_type": "stream",
     "text": [
      "accuracy on training set is 0.521797\n",
      "accuracy on validation set is 0.525336\n"
     ]
    }
   ],
   "source": [
    "#train multilayer perceptron \n",
    "clf3 = MLPClassifier(hidden_layer_sizes=(256, 128, 64, 32), \n",
    "                      random_state=42, max_iter=300, batch_size=32, \n",
    "                      shuffle=False, early_stopping=True)\n",
    "clf3.fit(train_x, train_y_formatted)\n",
    "\n",
    "#evaluate performance\n",
    "accuracytrain = clf3.score(train_x, train_y_formatted)\n",
    "print(\"accuracy on training set is %f\" % accuracytrain)\n",
    "accuracyval = clf3.score(val_x, val_y_formatted)\n",
    "print(\"accuracy on validation set is %f\" % accuracyval)"
   ]
  },
  {
   "cell_type": "code",
   "execution_count": 46,
   "metadata": {},
   "outputs": [],
   "source": [
    "valPredict3 = clf3.predict(val_x)"
   ]
  },
  {
   "cell_type": "code",
   "execution_count": 47,
   "metadata": {},
   "outputs": [
    {
     "name": "stdout",
     "output_type": "stream",
     "text": [
      "Validation accuracy of state 0 is 0.938190\n"
     ]
    }
   ],
   "source": [
    "#State 0 (0,1)\n",
    "indexes0 = findIndexesPerLabel(val_y_formatted, 0)\n",
    "actual0 = [0 for i in range(0, len(indexes0))]\n",
    "predicted0 = getPredictionsForLabel(indexes0, valPredict3)\n",
    "accuracy0 = accuracy_score(actual0, predicted0)\n",
    "print(\"Validation accuracy of state 0 is %f\" % accuracy0)"
   ]
  },
  {
   "cell_type": "code",
   "execution_count": 48,
   "metadata": {},
   "outputs": [
    {
     "data": {
      "text/plain": [
       "Counter({0: 425, 2: 12, 3: 16})"
      ]
     },
     "execution_count": 48,
     "metadata": {},
     "output_type": "execute_result"
    }
   ],
   "source": [
    "Counter(predicted0)"
   ]
  },
  {
   "cell_type": "code",
   "execution_count": 49,
   "metadata": {},
   "outputs": [
    {
     "name": "stdout",
     "output_type": "stream",
     "text": [
      "Validation accuracy of state 1 is 0.000000\n"
     ]
    }
   ],
   "source": [
    "#State 1 (2)\n",
    "indexes1 = findIndexesPerLabel(val_y_formatted, 1)\n",
    "actual1 = [1 for i in range(0, len(indexes1))]\n",
    "predicted1 = getPredictionsForLabel(indexes1, valPredict3)\n",
    "accuracy1 = accuracy_score(actual1, predicted1)\n",
    "print(\"Validation accuracy of state 1 is %f\" % accuracy1)"
   ]
  },
  {
   "cell_type": "code",
   "execution_count": 50,
   "metadata": {},
   "outputs": [
    {
     "data": {
      "text/plain": [
       "Counter({0: 215, 2: 16, 3: 7})"
      ]
     },
     "execution_count": 50,
     "metadata": {},
     "output_type": "execute_result"
    }
   ],
   "source": [
    "Counter(predicted1)"
   ]
  },
  {
   "cell_type": "code",
   "execution_count": 51,
   "metadata": {},
   "outputs": [
    {
     "name": "stdout",
     "output_type": "stream",
     "text": [
      "Validation accuracy of state 2 is 0.150259\n"
     ]
    }
   ],
   "source": [
    "#State 2 (3)\n",
    "indexes2 = findIndexesPerLabel(val_y_formatted, 2)\n",
    "actual2 = [2 for i in range(0, len(indexes2))]\n",
    "predicted2 = getPredictionsForLabel(indexes2, valPredict3)\n",
    "accuracy2 = accuracy_score(actual2, predicted2)\n",
    "print(\"Validation accuracy of state 2 is %f\" % accuracy2)"
   ]
  },
  {
   "cell_type": "code",
   "execution_count": 52,
   "metadata": {},
   "outputs": [
    {
     "data": {
      "text/plain": [
       "Counter({0: 127, 3: 37, 2: 29})"
      ]
     },
     "execution_count": 52,
     "metadata": {},
     "output_type": "execute_result"
    }
   ],
   "source": [
    "Counter(predicted2)"
   ]
  },
  {
   "cell_type": "code",
   "execution_count": 53,
   "metadata": {},
   "outputs": [
    {
     "name": "stdout",
     "output_type": "stream",
     "text": [
      "Validation accuracy of state 3 is 0.701299\n"
     ]
    }
   ],
   "source": [
    "#State 3 \n",
    "indexes3 = findIndexesPerLabel(val_y_formatted, 3)\n",
    "actual3 = [3 for i in range(0, len(indexes3))]\n",
    "predicted3 = getPredictionsForLabel(indexes3, valPredict3)\n",
    "accuracy3 = accuracy_score(actual3, predicted3)\n",
    "print(\"Validation accuracy of state 3 is %f\" % accuracy3)"
   ]
  },
  {
   "cell_type": "code",
   "execution_count": 54,
   "metadata": {},
   "outputs": [
    {
     "data": {
      "text/plain": [
       "Counter({2: 16, 3: 54, 0: 7})"
      ]
     },
     "execution_count": 54,
     "metadata": {},
     "output_type": "execute_result"
    }
   ],
   "source": [
    "Counter(predicted3)"
   ]
  },
  {
   "cell_type": "code",
   "execution_count": 55,
   "metadata": {},
   "outputs": [
    {
     "name": "stdout",
     "output_type": "stream",
     "text": [
      "Validation accuracy of state 4 is 0.000000\n"
     ]
    }
   ],
   "source": [
    "#State 4 \n",
    "indexes4 = findIndexesPerLabel(val_y_formatted, 4)\n",
    "actual4 = [4 for i in range(0, len(indexes4))]\n",
    "predicted4 = getPredictionsForLabel(indexes4, valPredict3)\n",
    "accuracy4 = accuracy_score(actual4, predicted4)\n",
    "print(\"Validation accuracy of state 4 is %f\" % accuracy4)"
   ]
  },
  {
   "cell_type": "code",
   "execution_count": 56,
   "metadata": {},
   "outputs": [
    {
     "data": {
      "text/plain": [
       "Counter({3: 5, 2: 1})"
      ]
     },
     "execution_count": 56,
     "metadata": {},
     "output_type": "execute_result"
    }
   ],
   "source": [
    "Counter(predicted4)"
   ]
  },
  {
   "cell_type": "markdown",
   "metadata": {},
   "source": [
    "### Attempt 4: Further compress states"
   ]
  },
  {
   "cell_type": "markdown",
   "metadata": {},
   "source": [
    "Combine states 0,1,2 to state 0. Map state 3 to state 1, state 4 to state 2 and state 5 to state 3. "
   ]
  },
  {
   "cell_type": "code",
   "execution_count": 57,
   "metadata": {},
   "outputs": [],
   "source": [
    "def formatTargetClassesCompress(originalTargetLst):\n",
    "    output = []\n",
    "    for target in originalTargetLst:\n",
    "        if target < 3:\n",
    "            output.append(0)\n",
    "        else:\n",
    "            output.append(int(target-2))\n",
    "    return output"
   ]
  },
  {
   "cell_type": "code",
   "execution_count": 58,
   "metadata": {},
   "outputs": [],
   "source": [
    "train_y_formatted_compress = formatTargetClassesCompress(train_y)\n",
    "val_y_formatted_compress = formatTargetClassesCompress(val_y)\n",
    "test_y_formatted_compress = formatTargetClassesCompress(test_y)"
   ]
  },
  {
   "cell_type": "code",
   "execution_count": 59,
   "metadata": {},
   "outputs": [
    {
     "name": "stdout",
     "output_type": "stream",
     "text": [
      "accuracy on training set is 0.746589\n",
      "accuracy on validation set is 0.764219\n"
     ]
    }
   ],
   "source": [
    "#train multilayer perceptron \n",
    "clf4 = MLPClassifier(hidden_layer_sizes=(256, 128, 64, 32), \n",
    "                      random_state=42, max_iter=300, batch_size=32, \n",
    "                      shuffle=False, early_stopping=True)\n",
    "clf4.fit(train_x, train_y_formatted_compress)\n",
    "\n",
    "#evaluate performance\n",
    "accuracytrain = clf4.score(train_x, train_y_formatted_compress)\n",
    "print(\"accuracy on training set is %f\" % accuracytrain)\n",
    "accuracyval = clf4.score(val_x, val_y_formatted_compress)\n",
    "print(\"accuracy on validation set is %f\" % accuracyval)"
   ]
  },
  {
   "cell_type": "code",
   "execution_count": 60,
   "metadata": {},
   "outputs": [],
   "source": [
    "valPredict4 = clf4.predict(val_x)"
   ]
  },
  {
   "cell_type": "code",
   "execution_count": 61,
   "metadata": {},
   "outputs": [
    {
     "name": "stdout",
     "output_type": "stream",
     "text": [
      "Validation accuracy of state 0 is 0.956585\n"
     ]
    }
   ],
   "source": [
    "#State 0 (0,1,2)\n",
    "indexes0 = findIndexesPerLabel(val_y_formatted_compress, 0)\n",
    "actual0 = [0 for i in range(0, len(indexes0))]\n",
    "predicted0 = getPredictionsForLabel(indexes0, valPredict4)\n",
    "accuracy0 = accuracy_score(actual0, predicted0)\n",
    "print(\"Validation accuracy of state 0 is %f\" % accuracy0)"
   ]
  },
  {
   "cell_type": "code",
   "execution_count": 62,
   "metadata": {},
   "outputs": [
    {
     "data": {
      "text/plain": [
       "Counter({0: 661, 1: 14, 2: 16})"
      ]
     },
     "execution_count": 62,
     "metadata": {},
     "output_type": "execute_result"
    }
   ],
   "source": [
    "Counter(predicted0)"
   ]
  },
  {
   "cell_type": "code",
   "execution_count": 63,
   "metadata": {},
   "outputs": [
    {
     "name": "stdout",
     "output_type": "stream",
     "text": [
      "Validation accuracy of state 1 is 0.134715\n"
     ]
    }
   ],
   "source": [
    "#State 1 (3)\n",
    "indexes1 = findIndexesPerLabel(val_y_formatted_compress, 1)\n",
    "actual1 = [1 for i in range(0, len(indexes1))]\n",
    "predicted1 = getPredictionsForLabel(indexes1, valPredict4)\n",
    "accuracy1 = accuracy_score(actual1, predicted1)\n",
    "print(\"Validation accuracy of state 1 is %f\" % accuracy1)"
   ]
  },
  {
   "cell_type": "code",
   "execution_count": 64,
   "metadata": {},
   "outputs": [
    {
     "data": {
      "text/plain": [
       "Counter({0: 132, 2: 35, 1: 26})"
      ]
     },
     "execution_count": 64,
     "metadata": {},
     "output_type": "execute_result"
    }
   ],
   "source": [
    "Counter(predicted1)"
   ]
  },
  {
   "cell_type": "code",
   "execution_count": 65,
   "metadata": {},
   "outputs": [
    {
     "name": "stdout",
     "output_type": "stream",
     "text": [
      "Validation accuracy of state 1 is 0.675325\n"
     ]
    }
   ],
   "source": [
    "#State 2 (4)\n",
    "indexes2 = findIndexesPerLabel(val_y_formatted_compress, 2)\n",
    "actual2 = [2 for i in range(0, len(indexes2))]\n",
    "predicted2 = getPredictionsForLabel(indexes2, valPredict4)\n",
    "accuracy2 = accuracy_score(actual2, predicted2)\n",
    "print(\"Validation accuracy of state 1 is %f\" % accuracy2)"
   ]
  },
  {
   "cell_type": "code",
   "execution_count": 66,
   "metadata": {},
   "outputs": [
    {
     "data": {
      "text/plain": [
       "Counter({1: 15, 2: 52, 0: 10})"
      ]
     },
     "execution_count": 66,
     "metadata": {},
     "output_type": "execute_result"
    }
   ],
   "source": [
    "Counter(predicted2)"
   ]
  },
  {
   "cell_type": "code",
   "execution_count": 67,
   "metadata": {},
   "outputs": [
    {
     "name": "stdout",
     "output_type": "stream",
     "text": [
      "Validation accuracy of state 1 is 0.000000\n"
     ]
    }
   ],
   "source": [
    "#State 3 (5)\n",
    "indexes3 = findIndexesPerLabel(val_y_formatted_compress, 3)\n",
    "actual3 = [3 for i in range(0, len(indexes3))]\n",
    "predicted3 = getPredictionsForLabel(indexes3, valPredict4)\n",
    "accuracy3 = accuracy_score(actual3, predicted3)\n",
    "print(\"Validation accuracy of state 1 is %f\" % accuracy3)"
   ]
  },
  {
   "cell_type": "code",
   "execution_count": 68,
   "metadata": {},
   "outputs": [
    {
     "data": {
      "text/plain": [
       "Counter({2: 5, 1: 1})"
      ]
     },
     "execution_count": 68,
     "metadata": {},
     "output_type": "execute_result"
    }
   ],
   "source": [
    "Counter(predicted3)"
   ]
  },
  {
   "cell_type": "markdown",
   "metadata": {},
   "source": [
    "### Attempt 5: Group machine states"
   ]
  },
  {
   "cell_type": "markdown",
   "metadata": {},
   "source": [
    "Group states 0, 1 into state 0 and states 2, 3 into state 1, state 4 to state 2, state 5 to state 3. "
   ]
  },
  {
   "cell_type": "code",
   "execution_count": 70,
   "metadata": {},
   "outputs": [],
   "source": [
    "def formatTargetClassesGroup(originalTargetLst):\n",
    "    output = []\n",
    "    for target in originalTargetLst:\n",
    "        if target < 2:\n",
    "            output.append(0)\n",
    "        elif (target > 1) and (target < 4):\n",
    "            output.append(1)\n",
    "        else:\n",
    "            output.append(int(target-2))\n",
    "    return output"
   ]
  },
  {
   "cell_type": "code",
   "execution_count": 71,
   "metadata": {},
   "outputs": [],
   "source": [
    "train_y_formatted_group = formatTargetClassesGroup(train_y)\n",
    "val_y_formatted_group = formatTargetClassesGroup(val_y)\n",
    "test_y_formatted_group = formatTargetClassesGroup(test_y)"
   ]
  },
  {
   "cell_type": "code",
   "execution_count": 72,
   "metadata": {},
   "outputs": [
    {
     "name": "stdout",
     "output_type": "stream",
     "text": [
      "accuracy on training set is 0.603494\n",
      "accuracy on validation set is 0.587384\n"
     ]
    }
   ],
   "source": [
    "#train multilayer perceptron \n",
    "clf5 = MLPClassifier(hidden_layer_sizes=(256, 128, 64, 32), \n",
    "                      random_state=42, max_iter=300, batch_size=32, \n",
    "                      shuffle=False, early_stopping=True)\n",
    "clf5.fit(train_x, train_y_formatted_group)\n",
    "\n",
    "#evaluate performance\n",
    "accuracytrain = clf5.score(train_x, train_y_formatted_group)\n",
    "print(\"accuracy on training set is %f\" % accuracytrain)\n",
    "accuracyval = clf5.score(val_x, val_y_formatted_group)\n",
    "print(\"accuracy on validation set is %f\" % accuracyval)"
   ]
  },
  {
   "cell_type": "code",
   "execution_count": 73,
   "metadata": {},
   "outputs": [],
   "source": [
    "valPredict5 = clf5.predict(val_x)"
   ]
  },
  {
   "cell_type": "code",
   "execution_count": 74,
   "metadata": {},
   "outputs": [
    {
     "name": "stdout",
     "output_type": "stream",
     "text": [
      "Validation accuracy of state 0 is 0.653422\n"
     ]
    }
   ],
   "source": [
    "#State 0 (0,1)\n",
    "indexes0 = findIndexesPerLabel(val_y_formatted_group, 0)\n",
    "actual0 = [0 for i in range(0, len(indexes0))]\n",
    "predicted0 = getPredictionsForLabel(indexes0, valPredict5)\n",
    "accuracy0 = accuracy_score(actual0, predicted0)\n",
    "print(\"Validation accuracy of state 0 is %f\" % accuracy0)"
   ]
  },
  {
   "cell_type": "code",
   "execution_count": 75,
   "metadata": {},
   "outputs": [
    {
     "data": {
      "text/plain": [
       "Counter({0: 296, 1: 141, 2: 16})"
      ]
     },
     "execution_count": 75,
     "metadata": {},
     "output_type": "execute_result"
    }
   ],
   "source": [
    "Counter(predicted0)"
   ]
  },
  {
   "cell_type": "code",
   "execution_count": 76,
   "metadata": {},
   "outputs": [
    {
     "name": "stdout",
     "output_type": "stream",
     "text": [
      "Validation accuracy of state 1 is 0.505800\n"
     ]
    }
   ],
   "source": [
    "#State 1 (2, 3)\n",
    "indexes1 = findIndexesPerLabel(val_y_formatted_group, 1)\n",
    "actual1 = [1 for i in range(0, len(indexes1))]\n",
    "predicted1 = getPredictionsForLabel(indexes1, valPredict5)\n",
    "accuracy1 = accuracy_score(actual1, predicted1)\n",
    "print(\"Validation accuracy of state 1 is %f\" % accuracy1)"
   ]
  },
  {
   "cell_type": "code",
   "execution_count": 77,
   "metadata": {},
   "outputs": [
    {
     "data": {
      "text/plain": [
       "Counter({0: 171, 1: 218, 2: 42})"
      ]
     },
     "execution_count": 77,
     "metadata": {},
     "output_type": "execute_result"
    }
   ],
   "source": [
    "Counter(predicted1)"
   ]
  },
  {
   "cell_type": "code",
   "execution_count": 78,
   "metadata": {},
   "outputs": [
    {
     "name": "stdout",
     "output_type": "stream",
     "text": [
      "Validation accuracy of state 1 is 0.701299\n"
     ]
    }
   ],
   "source": [
    "#State 2 (4)\n",
    "indexes2 = findIndexesPerLabel(val_y_formatted_group, 2)\n",
    "actual2 = [2 for i in range(0, len(indexes2))]\n",
    "predicted2 = getPredictionsForLabel(indexes2, valPredict5)\n",
    "accuracy2 = accuracy_score(actual2, predicted2)\n",
    "print(\"Validation accuracy of state 1 is %f\" % accuracy2)"
   ]
  },
  {
   "cell_type": "code",
   "execution_count": 79,
   "metadata": {},
   "outputs": [
    {
     "data": {
      "text/plain": [
       "Counter({1: 21, 2: 54, 0: 2})"
      ]
     },
     "execution_count": 79,
     "metadata": {},
     "output_type": "execute_result"
    }
   ],
   "source": [
    "Counter(predicted2)"
   ]
  },
  {
   "cell_type": "code",
   "execution_count": 80,
   "metadata": {},
   "outputs": [
    {
     "name": "stdout",
     "output_type": "stream",
     "text": [
      "Validation accuracy of state 1 is 0.000000\n"
     ]
    }
   ],
   "source": [
    "#State 3 (5)\n",
    "indexes3 = findIndexesPerLabel(val_y_formatted_group, 3)\n",
    "actual3 = [3 for i in range(0, len(indexes3))]\n",
    "predicted3 = getPredictionsForLabel(indexes3, valPredict5)\n",
    "accuracy3 = accuracy_score(actual3, predicted3)\n",
    "print(\"Validation accuracy of state 1 is %f\" % accuracy3)"
   ]
  },
  {
   "cell_type": "code",
   "execution_count": 81,
   "metadata": {},
   "outputs": [
    {
     "data": {
      "text/plain": [
       "Counter({1: 2, 2: 4})"
      ]
     },
     "execution_count": 81,
     "metadata": {},
     "output_type": "execute_result"
    }
   ],
   "source": [
    "Counter(predicted3)"
   ]
  },
  {
   "cell_type": "code",
   "execution_count": 82,
   "metadata": {},
   "outputs": [
    {
     "data": {
      "text/plain": [
       "['machineStateClassifier_formatted.joblib']"
      ]
     },
     "execution_count": 82,
     "metadata": {},
     "output_type": "execute_result"
    }
   ],
   "source": [
    "fileName2 = 'machineStateClassifier_formatted.joblib'\n",
    "dump(clf5, fileName2)"
   ]
  },
  {
   "cell_type": "code",
   "execution_count": null,
   "metadata": {},
   "outputs": [],
   "source": []
  }
 ],
 "metadata": {
  "kernelspec": {
   "display_name": "Python 3",
   "language": "python",
   "name": "python3"
  },
  "language_info": {
   "codemirror_mode": {
    "name": "ipython",
    "version": 3
   },
   "file_extension": ".py",
   "mimetype": "text/x-python",
   "name": "python",
   "nbconvert_exporter": "python",
   "pygments_lexer": "ipython3",
   "version": "3.8.3"
  }
 },
 "nbformat": 4,
 "nbformat_minor": 4
}
